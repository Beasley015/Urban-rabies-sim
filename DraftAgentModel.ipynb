{
 "cells": [
  {
   "cell_type": "code",
   "execution_count": null,
   "metadata": {},
   "outputs": [],
   "source": [
    "#=\n",
    "# Package installation\n",
    "using Pkg\n",
    "Pkg.add(\"DataFrames\")\n",
    "Pkg.add(\"StatsBase\")\n",
    "Pkg.add(\"NeutralLandscapes\")\n",
    "Pkg.add(\"PkgCite\")\n",
    "Pkg.add(\"Plots\")\n",
    "Pkg.add(\"PGFPlotsX\")\n",
    "Pkg.add(\"Distributions\")\n",
    "Pkg.add(\"GeoData\")\n",
    "Pkg.add(\"Counters\")\n",
    "Pkg.add(\"ProgressMeter\")\n",
    "Pkg.add(\"CSV\")\n",
    "=#"
   ]
  },
  {
   "cell_type": "code",
   "execution_count": 1,
   "metadata": {},
   "outputs": [],
   "source": [
    "using DataFrames\n",
    "using StatsBase\n",
    "using Distributions\n",
    "using Random\n",
    "using NeutralLandscapes # There's an incompatability compiling this with another package, but the ones here aren't it\n",
    "using PkgCite\n",
    "using Plots; pgfplotsx()\n",
    "using GeoData\n",
    "using Counters\n",
    "using ProgressMeter\n",
    "using CSV"
   ]
  },
  {
   "cell_type": "code",
   "execution_count": 2,
   "metadata": {},
   "outputs": [
    {
     "data": {
      "text/html": [
       "<div class=\"data-frame\"><p>8 rows × 3 columns</p><table class=\"data-frame\"><thead><tr><th></th><th>type</th><th>prop</th><th>coef</th></tr><tr><th></th><th title=\"String\">String</th><th title=\"Float64\">Float64</th><th title=\"Float64\">Float64</th></tr></thead><tbody><tr><th>1</th><td>forest</td><td>0.224461</td><td>0.12</td></tr><tr><th>2</th><td>developed</td><td>0.252374</td><td>-0.5</td></tr><tr><th>3</th><td>pasture</td><td>0.134121</td><td>-0.03</td></tr><tr><th>4</th><td>wetlands</td><td>0.0629525</td><td>0.57</td></tr><tr><th>5</th><td>herbaceous</td><td>0.00344292</td><td>0.0</td></tr><tr><th>6</th><td>cultivated</td><td>0.0186933</td><td>-0.5</td></tr><tr><th>7</th><td>barren</td><td>0.0023558</td><td>0.0</td></tr><tr><th>8</th><td>shrub</td><td>0.00209113</td><td>0.4</td></tr></tbody></table></div>"
      ],
      "text/latex": [
       "\\begin{tabular}{r|ccc}\n",
       "\t& type & prop & coef\\\\\n",
       "\t\\hline\n",
       "\t& String & Float64 & Float64\\\\\n",
       "\t\\hline\n",
       "\t1 & forest & 0.224461 & 0.12 \\\\\n",
       "\t2 & developed & 0.252374 & -0.5 \\\\\n",
       "\t3 & pasture & 0.134121 & -0.03 \\\\\n",
       "\t4 & wetlands & 0.0629525 & 0.57 \\\\\n",
       "\t5 & herbaceous & 0.00344292 & 0.0 \\\\\n",
       "\t6 & cultivated & 0.0186933 & -0.5 \\\\\n",
       "\t7 & barren & 0.0023558 & 0.0 \\\\\n",
       "\t8 & shrub & 0.00209113 & 0.4 \\\\\n",
       "\\end{tabular}\n"
      ],
      "text/plain": [
       "\u001b[1m8×3 DataFrame\u001b[0m\n",
       "\u001b[1m Row \u001b[0m│\u001b[1m type       \u001b[0m\u001b[1m prop       \u001b[0m\u001b[1m coef    \u001b[0m\n",
       "\u001b[1m     \u001b[0m│\u001b[90m String     \u001b[0m\u001b[90m Float64    \u001b[0m\u001b[90m Float64 \u001b[0m\n",
       "─────┼─────────────────────────────────\n",
       "   1 │ forest      0.224461       0.12\n",
       "   2 │ developed   0.252374      -0.5\n",
       "   3 │ pasture     0.134121      -0.03\n",
       "   4 │ wetlands    0.0629525      0.57\n",
       "   5 │ herbaceous  0.00344292     0.0\n",
       "   6 │ cultivated  0.0186933     -0.5\n",
       "   7 │ barren      0.0023558      0.0\n",
       "   8 │ shrub       0.00209113     0.4"
      ]
     },
     "metadata": {},
     "output_type": "display_data"
    }
   ],
   "source": [
    "# read Burlington raster \n",
    "Buland = geoarray(\"BurlingtonRaster.gri\")\n",
    "# this raster is ~25km in width\n",
    "\n",
    "# Get rid of 3rd dim\n",
    "Buland_array = collect(convert(Array{Float64}, Buland)[:,:,1])\n",
    "\n",
    "# Check for rows of all NaN\n",
    "na_sums = sum(convert(Array{Float64}, isnan.(Buland_array)),dims=1)\n",
    "\n",
    "na_sums[na_sums .== size(Buland_array,2)] #all rows have meaningful values; proceed\n",
    "\n",
    "# Get percentages of each land cover type\n",
    "c = Counter{Float64}()\n",
    "incr!(c, Buland_array)\n",
    "\n",
    "land_proportions = [c[unique(Buland_array)[i]]/sum(c) for i in 1:length(unique(Buland_array))]\n",
    "\n",
    "#=\n",
    "Values from National Land Cover Database\n",
    "41 = Forest\n",
    "21 = Developed\n",
    "81 = Pasture\n",
    "90 = wetlands\n",
    "71 = herbaceous\n",
    "82 = cultivated crops\n",
    "31 = barren\n",
    "52 = shrub/scrub\n",
    "=#\n",
    "\n",
    "hab_names = [\"forest\", \"developed\", \"pasture\", \"wetlands\", \"herbaceous\", \"cultivated\", \"barren\", \"shrub\"]\n",
    "hab_coefs = [0.12, -0.5, -0.03, 0.57, 0, -0.5, 0, 0.4]\n",
    "hab_frame = DataFrame(type = hab_names, prop = land_proportions[2:9], coef = hab_coefs)"
   ]
  },
  {
   "cell_type": "code",
   "execution_count": 3,
   "metadata": {},
   "outputs": [
    {
     "data": {
      "text/plain": [
       "50×50 Matrix{Float64}:\n",
       " 1.0  1.0  1.0  2.0  2.0  2.0  2.0  1.0  …  2.0  2.0  2.0  2.0  3.0  2.0  2.0\n",
       " 1.0  1.0  1.0  2.0  2.0  2.0  2.0  1.0     2.0  2.0  2.0  3.0  3.0  2.0  2.0\n",
       " 1.0  1.0  1.0  1.0  2.0  2.0  1.0  3.0     2.0  1.0  1.0  1.0  3.0  3.0  3.0\n",
       " 2.0  2.0  2.0  3.0  2.0  1.0  1.0  3.0     3.0  1.0  1.0  1.0  1.0  2.0  2.0\n",
       " 2.0  3.0  3.0  3.0  3.0  3.0  3.0  3.0     3.0  3.0  1.0  1.0  2.0  2.0  1.0\n",
       " 2.0  3.0  3.0  3.0  2.0  3.0  3.0  3.0  …  3.0  3.0  3.0  2.0  2.0  1.0  1.0\n",
       " 1.0  1.0  1.0  1.0  2.0  2.0  3.0  3.0     3.0  3.0  2.0  2.0  2.0  2.0  2.0\n",
       " 1.0  1.0  1.0  1.0  2.0  2.0  1.0  1.0     3.0  2.0  2.0  2.0  6.0  6.0  2.0\n",
       " 1.0  1.0  1.0  1.0  2.0  2.0  2.0  1.0     2.0  2.0  2.0  2.0  6.0  6.0  2.0\n",
       " 1.0  1.0  3.0  2.0  2.0  2.0  2.0  2.0     2.0  2.0  2.0  2.0  2.0  2.0  1.0\n",
       " ⋮                        ⋮              ⋱            ⋮                   \n",
       " 1.0  1.0  2.0  2.0  2.0  2.0  1.0  1.0     1.0  3.0  4.0  2.0  2.0  3.0  3.0\n",
       " 1.0  1.0  2.0  2.0  2.0  1.0  1.0  1.0     3.0  3.0  3.0  2.0  3.0  3.0  3.0\n",
       " 1.0  2.0  2.0  2.0  1.0  1.0  1.0  2.0     2.0  2.0  2.0  3.0  3.0  3.0  3.0\n",
       " 1.0  2.0  2.0  2.0  2.0  1.0  2.0  2.0     2.0  2.0  2.0  1.0  3.0  3.0  3.0\n",
       " 2.0  2.0  2.0  2.0  3.0  2.0  2.0  2.0  …  1.0  2.0  2.0  1.0  1.0  1.0  1.0\n",
       " 4.0  4.0  3.0  3.0  3.0  2.0  2.0  1.0     1.0  1.0  1.0  1.0  1.0  1.0  1.0\n",
       " 4.0  4.0  3.0  3.0  1.0  1.0  1.0  1.0     1.0  1.0  1.0  1.0  1.0  1.0  1.0\n",
       " 4.0  4.0  4.0  3.0  3.0  3.0  3.0  3.0     3.0  3.0  3.0  1.0  1.0  1.0  1.0\n",
       " 4.0  4.0  2.0  2.0  2.0  3.0  3.0  3.0     4.0  4.0  4.0  4.0  1.0  1.0  1.0"
      ]
     },
     "metadata": {},
     "output_type": "display_data"
    }
   ],
   "source": [
    "# Create simulated landscapes\n",
    "land_size = 50 # 1 cell = 0.5 km by 0.5 km\n",
    "\n",
    "# Create neutral landscape based on real habitat proportions\n",
    "clustered_land = rand(NearestNeighborCluster(0.2), (land_size, land_size))\n",
    "landscape = NeutralLandscapes.classify(clustered_land, land_proportions[2:9])\n",
    "\n",
    "#heatmap(landscape)"
   ]
  },
  {
   "cell_type": "code",
   "execution_count": 24,
   "metadata": {},
   "outputs": [
    {
     "data": {
      "text/html": [
       "<div class=\"data-frame\"><p>343 rows × 11 columns (omitted printing of 4 columns)</p><table class=\"data-frame\"><thead><tr><th></th><th>id</th><th>x</th><th>y</th><th>incubation</th><th>time_since_inf</th><th>infectious</th><th>time_since_disease</th></tr><tr><th></th><th title=\"String\">String</th><th title=\"Int64\">Int64</th><th title=\"Int64\">Int64</th><th title=\"Int64\">Int64</th><th title=\"Int64\">Int64</th><th title=\"Int64\">Int64</th><th title=\"Int64\">Int64</th></tr></thead><tbody><tr><th>1</th><td>35</td><td>3</td><td>25</td><td>1</td><td>1</td><td>0</td><td>0</td></tr><tr><th>2</th><td>47</td><td>22</td><td>17</td><td>1</td><td>1</td><td>0</td><td>0</td></tr><tr><th>3</th><td>49</td><td>7</td><td>22</td><td>1</td><td>1</td><td>0</td><td>0</td></tr><tr><th>4</th><td>90</td><td>36</td><td>44</td><td>1</td><td>1</td><td>0</td><td>0</td></tr><tr><th>5</th><td>97</td><td>44</td><td>32</td><td>1</td><td>1</td><td>0</td><td>0</td></tr><tr><th>6</th><td>104</td><td>34</td><td>6</td><td>1</td><td>1</td><td>0</td><td>0</td></tr><tr><th>7</th><td>129</td><td>43</td><td>13</td><td>1</td><td>1</td><td>0</td><td>0</td></tr><tr><th>8</th><td>190</td><td>2</td><td>16</td><td>1</td><td>1</td><td>0</td><td>0</td></tr><tr><th>9</th><td>202</td><td>38</td><td>15</td><td>1</td><td>1</td><td>0</td><td>0</td></tr><tr><th>10</th><td>214</td><td>35</td><td>7</td><td>1</td><td>1</td><td>0</td><td>0</td></tr><tr><th>11</th><td>217</td><td>6</td><td>13</td><td>1</td><td>1</td><td>0</td><td>0</td></tr><tr><th>12</th><td>228</td><td>13</td><td>15</td><td>1</td><td>1</td><td>0</td><td>0</td></tr><tr><th>13</th><td>242</td><td>1</td><td>30</td><td>1</td><td>1</td><td>0</td><td>0</td></tr><tr><th>14</th><td>258</td><td>38</td><td>4</td><td>1</td><td>1</td><td>0</td><td>0</td></tr><tr><th>15</th><td>317</td><td>27</td><td>44</td><td>1</td><td>1</td><td>0</td><td>0</td></tr><tr><th>16</th><td>318</td><td>6</td><td>45</td><td>1</td><td>1</td><td>0</td><td>0</td></tr><tr><th>17</th><td>364</td><td>17</td><td>24</td><td>1</td><td>1</td><td>0</td><td>0</td></tr><tr><th>18</th><td>388</td><td>28</td><td>14</td><td>1</td><td>1</td><td>0</td><td>0</td></tr><tr><th>19</th><td>396</td><td>27</td><td>37</td><td>1</td><td>1</td><td>0</td><td>0</td></tr><tr><th>20</th><td>405</td><td>4</td><td>40</td><td>1</td><td>1</td><td>0</td><td>0</td></tr><tr><th>21</th><td>412</td><td>8</td><td>33</td><td>1</td><td>1</td><td>0</td><td>0</td></tr><tr><th>22</th><td>417</td><td>32</td><td>21</td><td>1</td><td>1</td><td>0</td><td>0</td></tr><tr><th>23</th><td>434</td><td>34</td><td>1</td><td>1</td><td>1</td><td>0</td><td>0</td></tr><tr><th>24</th><td>437</td><td>3</td><td>7</td><td>1</td><td>1</td><td>0</td><td>0</td></tr><tr><th>&vellip;</th><td>&vellip;</td><td>&vellip;</td><td>&vellip;</td><td>&vellip;</td><td>&vellip;</td><td>&vellip;</td><td>&vellip;</td></tr></tbody></table></div>"
      ],
      "text/latex": [
       "\\begin{tabular}{r|cccccccc}\n",
       "\t& id & x & y & incubation & time\\_since\\_inf & infectious & time\\_since\\_disease & \\\\\n",
       "\t\\hline\n",
       "\t& String & Int64 & Int64 & Int64 & Int64 & Int64 & Int64 & \\\\\n",
       "\t\\hline\n",
       "\t1 & 35 & 3 & 25 & 1 & 1 & 0 & 0 & $\\dots$ \\\\\n",
       "\t2 & 47 & 22 & 17 & 1 & 1 & 0 & 0 & $\\dots$ \\\\\n",
       "\t3 & 49 & 7 & 22 & 1 & 1 & 0 & 0 & $\\dots$ \\\\\n",
       "\t4 & 90 & 36 & 44 & 1 & 1 & 0 & 0 & $\\dots$ \\\\\n",
       "\t5 & 97 & 44 & 32 & 1 & 1 & 0 & 0 & $\\dots$ \\\\\n",
       "\t6 & 104 & 34 & 6 & 1 & 1 & 0 & 0 & $\\dots$ \\\\\n",
       "\t7 & 129 & 43 & 13 & 1 & 1 & 0 & 0 & $\\dots$ \\\\\n",
       "\t8 & 190 & 2 & 16 & 1 & 1 & 0 & 0 & $\\dots$ \\\\\n",
       "\t9 & 202 & 38 & 15 & 1 & 1 & 0 & 0 & $\\dots$ \\\\\n",
       "\t10 & 214 & 35 & 7 & 1 & 1 & 0 & 0 & $\\dots$ \\\\\n",
       "\t11 & 217 & 6 & 13 & 1 & 1 & 0 & 0 & $\\dots$ \\\\\n",
       "\t12 & 228 & 13 & 15 & 1 & 1 & 0 & 0 & $\\dots$ \\\\\n",
       "\t13 & 242 & 1 & 30 & 1 & 1 & 0 & 0 & $\\dots$ \\\\\n",
       "\t14 & 258 & 38 & 4 & 1 & 1 & 0 & 0 & $\\dots$ \\\\\n",
       "\t15 & 317 & 27 & 44 & 1 & 1 & 0 & 0 & $\\dots$ \\\\\n",
       "\t16 & 318 & 6 & 45 & 1 & 1 & 0 & 0 & $\\dots$ \\\\\n",
       "\t17 & 364 & 17 & 24 & 1 & 1 & 0 & 0 & $\\dots$ \\\\\n",
       "\t18 & 388 & 28 & 14 & 1 & 1 & 0 & 0 & $\\dots$ \\\\\n",
       "\t19 & 396 & 27 & 37 & 1 & 1 & 0 & 0 & $\\dots$ \\\\\n",
       "\t20 & 405 & 4 & 40 & 1 & 1 & 0 & 0 & $\\dots$ \\\\\n",
       "\t21 & 412 & 8 & 33 & 1 & 1 & 0 & 0 & $\\dots$ \\\\\n",
       "\t22 & 417 & 32 & 21 & 1 & 1 & 0 & 0 & $\\dots$ \\\\\n",
       "\t23 & 434 & 34 & 1 & 1 & 1 & 0 & 0 & $\\dots$ \\\\\n",
       "\t24 & 437 & 3 & 7 & 1 & 1 & 0 & 0 & $\\dots$ \\\\\n",
       "\t$\\dots$ & $\\dots$ & $\\dots$ & $\\dots$ & $\\dots$ & $\\dots$ & $\\dots$ & $\\dots$ &  \\\\\n",
       "\\end{tabular}\n"
      ],
      "text/plain": [
       "\u001b[1m343×11 DataFrame\u001b[0m\n",
       "\u001b[1m Row \u001b[0m│\u001b[1m id     \u001b[0m\u001b[1m x     \u001b[0m\u001b[1m y     \u001b[0m\u001b[1m incubation \u001b[0m\u001b[1m time_since_inf \u001b[0m\u001b[1m infectious \u001b[0m\u001b[1m time_sinc\u001b[0m ⋯\n",
       "\u001b[1m     \u001b[0m│\u001b[90m String \u001b[0m\u001b[90m Int64 \u001b[0m\u001b[90m Int64 \u001b[0m\u001b[90m Int64      \u001b[0m\u001b[90m Int64          \u001b[0m\u001b[90m Int64      \u001b[0m\u001b[90m Int64    \u001b[0m ⋯\n",
       "─────┼──────────────────────────────────────────────────────────────────────────\n",
       "   1 │ 35          3     25           1               1           0            ⋯\n",
       "   2 │ 47         22     17           1               1           0\n",
       "   3 │ 49          7     22           1               1           0\n",
       "   4 │ 90         36     44           1               1           0\n",
       "   5 │ 97         44     32           1               1           0            ⋯\n",
       "   6 │ 104        34      6           1               1           0\n",
       "   7 │ 129        43     13           1               1           0\n",
       "   8 │ 190         2     16           1               1           0\n",
       "  ⋮  │   ⋮       ⋮      ⋮        ⋮             ⋮             ⋮               ⋮ ⋱\n",
       " 337 │ 6876       20      2           1               1           0            ⋯\n",
       " 338 │ 6896        7     47           1               1           0\n",
       " 339 │ 6903       17      5           1               1           0\n",
       " 340 │ 6910        3     25           1               1           0\n",
       " 341 │ 6955       18     44           1               1           0            ⋯\n",
       " 342 │ 6956       27     24           1               1           0\n",
       " 343 │ 6959       13     17           1               1           0\n",
       "\u001b[36m                                                  5 columns and 328 rows omitted\u001b[0m"
      ]
     },
     "metadata": {},
     "output_type": "display_data"
    }
   ],
   "source": [
    "# Define corners of landscape\n",
    "xmin = 0; xmax = land_size\n",
    "ymin = 0; ymax = land_size\n",
    "land_area = xmax*ymax\n",
    "\n",
    "# Assign density of the lil guys\n",
    "guy_density = 2.75 # Burlington results had ~11 raccoons per km^2/4 cells per km^2\n",
    "\n",
    "# get number of guys based on landscape size & density\n",
    "nguys = rand(Poisson(land_area*guy_density))\n",
    "\n",
    "# Create data frame of guys\n",
    "lil_guys = DataFrame(id = string.(collect(1:nguys)), x = convert.(Int64,trunc.(xmax*rand(nguys,1)))[:,1],\n",
    "    y = convert.(Int64,trunc.(ymax*rand(nguys,1)))[:,1], incubation = 0, time_since_inf = 0, infectious = 0, time_since_disease = 0,\n",
    "    sex = Int.(rand(Bernoulli(0.5), nguys)), mom = NaN, vaccinated = 0, age = 52)\n",
    "\n",
    "# Matrix of initial coords for home range attraction\n",
    "home_coords = DataFrame(id=lil_guys.id, x=lil_guys.x, y=lil_guys.y)\n",
    "\n",
    "# Initialize disease\n",
    "lil_guys.incubation[rand(1:nguys,convert(Int64,round(nguys * 0.05)))] .= 1\n",
    "lil_guys.time_since_inf = ifelse.(lil_guys.incubation .== 1, 1, lil_guys.time_since_inf)\n",
    "\n",
    "lil_guys[lil_guys.incubation .== 1,:]\n"
   ]
  },
  {
   "cell_type": "code",
   "execution_count": 25,
   "metadata": {},
   "outputs": [
    {
     "data": {
      "text/plain": [
       "look_around (generic function with 1 method)"
      ]
     },
     "metadata": {},
     "output_type": "display_data"
    }
   ],
   "source": [
    "# Create function for the guys to look at their surroundings\n",
    "function look_around(x,y)\n",
    "    # Get vector of all possible moves\n",
    "    all_moves = [(x-1, y+1), (x, y+1), (x+1, y+1),\n",
    "                (x-1, y), (x,y), (x+1, y),\n",
    "                (x-1, y-1), (x, y-1), (x+1, y-1)]\n",
    "\n",
    "    # Get indices of impossible moves\n",
    "    good_moves = findall([(0 .< x[1] .< land_size) .&& (0 .< x[2] .< land_size) for x in all_moves])\n",
    "\n",
    "    # Remove impossible moves\n",
    "    poss_moves = copy(all_moves[good_moves])\n",
    "end"
   ]
  },
  {
   "cell_type": "code",
   "execution_count": 26,
   "metadata": {},
   "outputs": [
    {
     "data": {
      "text/plain": [
       "move (generic function with 3 methods)"
      ]
     },
     "metadata": {},
     "output_type": "display_data"
    }
   ],
   "source": [
    "# Movement and disease function\n",
    "function move(coords, dat, reso=500, rate=-0.5)\n",
    "    # Where coords = list of tuples representing possible moves,\n",
    "    # dat = data frame of agents,\n",
    "    # reso = width/height of grid cell in meters\n",
    "    # rate = rate of distance-decay. Based on trial and error so raccoons typically stay ~1km from home\n",
    "\n",
    "    # Create blank array\n",
    "    habs = Vector(undef, length(coords))\n",
    "\n",
    "    # Get habitat type to create weights\n",
    "    for i in 1:length(coords)\n",
    "        habs[i] = landscape[CartesianIndex.([x[1] for x in coords[i]], [x[2] for x in coords[i]])]\n",
    "    end\n",
    "\n",
    "    # Match habitats to McClure coefficients\n",
    "    hab_prefs = Vector(undef, length(coords))\n",
    "    for i in 1:length(coords)\n",
    "        hab_prefs[i] = hab_frame.coef[convert.(Int64, habs[i])]\n",
    "    end\n",
    "   \n",
    "    # Movement weights as a function of distance from initial coords\n",
    "    distances = Vector(undef, length(coords))\n",
    "    dist_weights = Vector(undef, length(coords))\n",
    "    for i in 1:length(coords)\n",
    "        home = (home_coords.x[i], home_coords.y[i])\n",
    "        distances[i] = ((([x[1] for x in coords[i]].-home[1]).^2 .+ ([x[2] for x in coords[i]].-home[2]).^2)*reso)/100\n",
    "        dist_weights[i] = exp.(rate .* distances[i])\n",
    "    end\n",
    "\n",
    "    # Combine habitat and distance-decay weights\n",
    "    weights = Vector(undef, length(dist_weights))\n",
    "    for i in 1:length(dist_weights)\n",
    "        weights[i] = dist_weights[i] .* hab_prefs[i]\n",
    "    end\n",
    "\n",
    "    # Choose new location\n",
    "    new_location = sample.(coords, Weights.(weights))\n",
    "\n",
    "    # Make it a df\n",
    "    new_spots = DataFrame(x = [x[1] for x in new_location], y = [x[2] for x in new_location])\n",
    "\n",
    "    # Update data frame\n",
    "    dat.x = deepcopy(new_spots.x)\n",
    "    dat.y = deepcopy(new_spots.y)\n",
    "\n",
    "    # Change juvenile coords so they follow mom\n",
    "    kids = findall(dat.age .< 20)\n",
    "    \n",
    "    indices = vcat([findall(dat.id .== dat.mom[kids][i]) for i in 1:length(kids)]...)\n",
    "\n",
    "    x_coords = dat.x[indices]\n",
    "    y_coords = dat.y[indices]\n",
    "\n",
    "    dat.x[kids] = deepcopy(x_coords)\n",
    "    dat.y[kids] = deepcopy(y_coords)\n",
    "   \n",
    "    # Disease transmission\n",
    "    if length(filter(kv -> kv.second > 1, countmap(new_location))) > 0\n",
    "        # get coordinates where there are multiple guys\n",
    "        many_guys = collect(keys(filter(kv -> kv.second > 1, countmap(new_location))))\n",
    "        indices = [findall(==(x), new_location) for x in many_guys]\n",
    "\n",
    "        # spread disease\n",
    "        diseases = deepcopy(dat.infectious)\n",
    "\n",
    "        for i in 1:length(indices)\n",
    "            # drop vaccinated guys\n",
    "            if length(findall(x->x==1, dat.vaccinated[indices[i]])) > 0 & length(indices[i]) > 0\n",
    "                filter!(x->!(x in findall(x->x==1, dat.vaccinated)), indices[i])\n",
    "            end\n",
    "\n",
    "            # spread disease to unvaccinated guys\n",
    "            if any(diseases[indices[i]] .== 1)\n",
    "                test = diseases[indices[i]]\n",
    "                test[test .!= 1].= rand(Bernoulli(0.5), length(test[test .!= 1]))\n",
    "            end  \n",
    "        end\n",
    "\n",
    "        # Keep existing infections\n",
    "        diseases[findall(dat.incubation .== 1)] .= 1\n",
    "        \n",
    "        dat.incubation = deepcopy(diseases) \n",
    "\n",
    "    end \n",
    "end"
   ]
  },
  {
   "cell_type": "code",
   "execution_count": 27,
   "metadata": {},
   "outputs": [
    {
     "data": {
      "text/plain": [
       "begin_symptoms (generic function with 1 method)"
      ]
     },
     "metadata": {},
     "output_type": "display_data"
    }
   ],
   "source": [
    "# Transition from incubation period to infectious period\n",
    "function begin_symptoms(dat)\n",
    "    prob = rand.(Beta.(dat.time_since_inf[(dat.incubation .== 1) .& (dat.infectious .== 0)],5))\n",
    "\n",
    "    if length(prob) > 0\n",
    "        dat.infectious[(dat.incubation .== 1) .& (dat.infectious .== 0)] = reduce(vcat,rand.(Bernoulli.(prob), 1))\n",
    "    end\n",
    "end"
   ]
  },
  {
   "cell_type": "code",
   "execution_count": 28,
   "metadata": {},
   "outputs": [
    {
     "data": {
      "text/plain": [
       "dont_fear_the_reaper (generic function with 2 methods)"
      ]
     },
     "metadata": {},
     "output_type": "display_data"
    }
   ],
   "source": [
    "# Mortality function\n",
    "function dont_fear_the_reaper(dat, time=2)\n",
    "    # disease mortality set at 2 weeks because death function has to occur before movement to avoid bug\n",
    "    \n",
    "    # random mortality\n",
    "    rand_deaths = rand(Bernoulli(0.005),size(lil_guys,1))\n",
    "    deleteat!(lil_guys, findall(rand_deaths==1))\n",
    "    deleteat!(home_coords, findall(rand_deaths==1))\n",
    "\n",
    "    # disease mortality\n",
    "    deleteat!(home_coords, findall(x -> x > time, dat.time_since_disease))\n",
    "    filter!(:time_since_disease => <=(time), dat)\n",
    "\n",
    "    # old age mortality\n",
    "    deleteat!(home_coords, findall(x -> x >= (52*8), dat.age))\n",
    "    if length(findall(x-> x>=(52*8), dat.age)) > 0\n",
    "        filter!(:age => <=(52*8), dat)\n",
    "    end\n",
    "\n",
    "    # orphan mortality\n",
    "    kids = findall(dat.age .< 20)\n",
    "\n",
    "    no_mom = findall(x -> !(x in dat.id), dat.mom[kids])\n",
    "\n",
    "    deleteat!(home_coords, findall(x -> !(x in dat.id), dat.mom[kids]))\n",
    "    filter!(:mom => !in(dat.mom[kids][no_mom]), dat)\n",
    "\n",
    "    # Density-related mortality\n",
    "    # get coordinates where there are multiple guys\n",
    "    new_location = Vector(undef, size(dat,1))\n",
    "    for i in 1:size(dat,1)\n",
    "        new_location[i] = (dat.x[i], dat.y[i]) \n",
    "    end\n",
    "\n",
    "    many_guys = collect(keys(filter(kv -> kv.second > 1, countmap(new_location))))\n",
    "    indices = [findall(==(x), new_location) for x in many_guys]\n",
    "\n",
    "    # Find cells with max number of guys or greater\n",
    "    too_many_guys = findall(length.(indices) .> 10) #can adjust this number\n",
    "\n",
    "    crowded_spots = many_guys[too_many_guys]\n",
    "\n",
    "    # Apply increased mortality\n",
    "    crowded_indices = Vector(undef, length(crowded_spots))\n",
    "    for i in 1:length(crowded_spots)\n",
    "        crowded_indices[i] = intersect(findall(x -> x == crowded_spots[i][1], lil_guys.x), findall(x -> x == crowded_spots[i][2], lil_guys.y))\n",
    "    end\n",
    "\n",
    "    crowding_deaths = sort(unique(vcat(crowded_indices[findall(rand(Bernoulli(0.1), length(crowded_indices)) .== 1)]...)))\n",
    "    \n",
    "    \n",
    "    if length(crowding_deaths) > 0\n",
    "        deleteat!(dat, crowding_deaths)\n",
    "        deleteat!(home_coords, crowding_deaths)\n",
    "    end\n",
    "end"
   ]
  },
  {
   "cell_type": "code",
   "execution_count": 29,
   "metadata": {},
   "outputs": [
    {
     "data": {
      "text/plain": [
       "reproduce (generic function with 1 method)"
      ]
     },
     "metadata": {},
     "output_type": "display_data"
    }
   ],
   "source": [
    "# Reproduction function\n",
    "function reproduce(dat)\n",
    "    # Get females only\n",
    "    females = filter(:sex => ==(1), dat)\n",
    "    \n",
    "    # Choose females that actually reproduce\n",
    "    reproducing = females[randsubseq(1:size(females,1), 0.25),:]\n",
    "\n",
    "    # Assign number of offspring to each reproducing female\n",
    "    noffspring = rand(Poisson(2), size(reproducing,1))\n",
    "\n",
    "    # Create offspring at location of mother\n",
    "    devil_spawn = DataFrame(x = Int[], y = Int[], mom = String[])\n",
    "    for i in 1:length(noffspring)\n",
    "        for j in 1:noffspring[i]\n",
    "            push!(devil_spawn, (reproducing.x[i], reproducing.y[i], reproducing.id[i]))\n",
    "        end\n",
    "    end\n",
    "\n",
    "    # Fill in missing cols\n",
    "    devil_spawn.incubation .= 0\n",
    "    devil_spawn.time_since_inf .= 0\n",
    "    devil_spawn.infectious .= 0\n",
    "    devil_spawn.time_since_disease .= 0\n",
    "    devil_spawn.sex .= Int.(rand(Bernoulli(0.5), size(devil_spawn,1)))\n",
    "    devil_spawn.vaccinated .= 0\n",
    "    devil_spawn.age .= 0\n",
    "\n",
    "    id_vector = collect((maximum(parse.(Int64,dat.id))+1):(maximum(parse.(Int64,dat.id))+size(devil_spawn,1)))\n",
    "    devil_spawn.id = string.(id_vector)\n",
    "\n",
    "    # Append to main dataset\n",
    "    append!(dat, devil_spawn, promote = true)\n",
    "    append!(home_coords, DataFrame(id = devil_spawn.id, x=devil_spawn.x, y=devil_spawn.y), promote = true)\n",
    "    \n",
    "end"
   ]
  },
  {
   "cell_type": "code",
   "execution_count": 30,
   "metadata": {},
   "outputs": [
    {
     "data": {
      "text/plain": [
       "ORV (generic function with 3 methods)"
      ]
     },
     "metadata": {},
     "output_type": "display_data"
    }
   ],
   "source": [
    "# Vaccination function\n",
    "function ORV(dat, land=nothing, sero_prob=0.2)\n",
    "    if land==nothing \n",
    "        # Create array of vaccination probabilities\n",
    "        land = fill(sero_prob, (land_size,land_size))\n",
    "    end\n",
    "\n",
    "    # Get probs of vaccination at guys' locations\n",
    "    vaxprob = land[CartesianIndex.(dat.x, dat.y)]\n",
    "\n",
    "    # Juveniles have lower probs\n",
    "    kids = findall(dat.age .< 52)\n",
    "    vaxprob[kids] = vaxprob[kids]./2\n",
    "\n",
    "    # Generate vaccine outcomes\n",
    "    vax = Int.(rand.(Bernoulli.(vaxprob)))\n",
    "\n",
    "    # Update data\n",
    "    dat.vaccinated = deepcopy(vax)\n",
    "\n",
    "    dat\n",
    "end"
   ]
  },
  {
   "cell_type": "code",
   "execution_count": 31,
   "metadata": {},
   "outputs": [
    {
     "data": {
      "text/plain": [
       "juvies_leave (generic function with 2 methods)"
      ]
     },
     "metadata": {},
     "output_type": "display_data"
    }
   ],
   "source": [
    "# Juvenile distribution\n",
    "function juvies_leave(dat, dispersal_age=30)\n",
    "    # Get Juveniles\n",
    "    juvies = dat[findall(x -> x==30, dat.age),:]\n",
    "\n",
    "    # Create break point so it doesn't get stuck\n",
    "    niter = 0\n",
    "\n",
    "    while size(juvies,1) > 0\n",
    "        niter = niter + 1\n",
    "\n",
    "        # Pick a direction from list of inline functions\n",
    "        upleft(x,y)=[x-1, y+1]; up(x,y)=[x, y+1]; upright(x,y)=[x+1, y+1]\n",
    "        left(x,y)=[x-1, y]; right(x,y)=[x+1, y]\n",
    "        downleft(x,y)=[x-1, y-1]; down(x,y)=[x, y-1]; downright(x,y)=[x+1, y-1]\n",
    "        directions = rand([upleft, up, upright, left, right, \n",
    "                        downleft, down, downright], size(juvies,1))\n",
    "\n",
    "        # Get dispersal distance\n",
    "        distances = rand(Poisson(10), size(juvies,1))\n",
    "\n",
    "        # RUN!\n",
    "        coords = Vector(undef, size(juvies,1))\n",
    "\n",
    "        for i in 1:length(distances)\n",
    "            coords[i] = [juvies.x[i], juvies.y[i]]\n",
    "                for j in 1:distances[i]\n",
    "                coords[i] = directions[i](coords[i][1], coords[i][2])\n",
    "            end\n",
    "        end\n",
    "\n",
    "        # Remove juveniles that left the landscape\n",
    "        new_juvies = juvies[all.(x-> 0<x<land_size, coords),:]\n",
    "        gone_juvies = juvies[all.(x-> x<0 || x > land_size, coords),:]\n",
    "\n",
    "        # Update full data frame\n",
    "        filter!(:id => !in(gone_juvies.id), dat)\n",
    "        indices=findall(x-> x in(new_juvies.id), dat.id)\n",
    "        dat[indices,:]=new_juvies\n",
    "\n",
    "        # Update home coords data frame\n",
    "        filter!(:id => !in(gone_juvies.id), home_coords)\n",
    "        home_coords.x[indices] = new_juvies.x\n",
    "        home_coords.y[indices] = new_juvies.y\n",
    "        home_coords.id[indices] = new_juvies.id\n",
    "        \n",
    "        # Find coordinates with multiple guys\n",
    "        new_location = Vector(undef, size(dat,1))\n",
    "        for i in 1:size(dat,1)\n",
    "            new_location[i] = (dat.x[i], dat.y[i]) \n",
    "        end\n",
    "    \n",
    "        many_guys = collect(keys(filter(kv -> kv.second > 1, countmap(new_location))))\n",
    "        indices = [findall(==(x), new_location) for x in many_guys]\n",
    "    \n",
    "        # Find cells with less than max number of guys\n",
    "        enough_guys = findall(length.(indices) .<= 10) #can adjust this number\n",
    "    \n",
    "        good_spots = many_guys[enough_guys]\n",
    "    \n",
    "        good_indices = Vector(undef, length(good_spots))\n",
    "        for i in 1:length(good_spots)\n",
    "            good_indices[i] = intersect(findall(x -> x == good_spots[i][1], new_juvies.x), findall(x -> x == good_spots[i][2], new_juvies.y))\n",
    "        end    \n",
    "\n",
    "        deleteat!(new_juvies,sort(unique(vcat(good_indices...))))\n",
    "\n",
    "        # Start the cycle again\n",
    "        juvies = deepcopy(new_juvies)\n",
    "\n",
    "        if niter > 5\n",
    "            break\n",
    "        end\n",
    "    end\n",
    "end"
   ]
  },
  {
   "cell_type": "code",
   "execution_count": 32,
   "metadata": {},
   "outputs": [
    {
     "name": "stderr",
     "output_type": "stream",
     "text": [
      "\r\u001b[32mProgress:  20%|█████████                                |  ETA: 0:00:16\u001b[39m\u001b[K"
     ]
    },
    {
     "name": "stderr",
     "output_type": "stream",
     "text": [
      "\r\u001b[32mProgress:  30%|█████████████                            |  ETA: 0:00:13\u001b[39m\u001b[K"
     ]
    },
    {
     "name": "stderr",
     "output_type": "stream",
     "text": [
      "\r\u001b[32mProgress:  40%|█████████████████                        |  ETA: 0:00:10\u001b[39m\u001b[K"
     ]
    },
    {
     "name": "stderr",
     "output_type": "stream",
     "text": [
      "\r\u001b[32mProgress:  50%|█████████████████████                    |  ETA: 0:00:08\u001b[39m\u001b[K"
     ]
    },
    {
     "name": "stderr",
     "output_type": "stream",
     "text": [
      "\r\u001b[32mProgress:  60%|█████████████████████████                |  ETA: 0:00:06\u001b[39m\u001b[K"
     ]
    },
    {
     "name": "stderr",
     "output_type": "stream",
     "text": [
      "\r\u001b[32mProgress:  70%|█████████████████████████████            |  ETA: 0:00:05\u001b[39m\u001b[K"
     ]
    },
    {
     "name": "stderr",
     "output_type": "stream",
     "text": [
      "\r\u001b[32mProgress:  80%|█████████████████████████████████        |  ETA: 0:00:03\u001b[39m\u001b[K"
     ]
    },
    {
     "name": "stderr",
     "output_type": "stream",
     "text": [
      "\r\u001b[32mProgress:  90%|█████████████████████████████████████    |  ETA: 0:00:01\u001b[39m\u001b[K"
     ]
    },
    {
     "name": "stderr",
     "output_type": "stream",
     "text": [
      "\r\u001b[32mProgress: 100%|█████████████████████████████████████████| Time: 0:00:14\u001b[39m\u001b[K\n"
     ]
    },
    {
     "data": {
      "text/html": [
       "<div class=\"data-frame\"><p>10 rows × 5 columns</p><table class=\"data-frame\"><thead><tr><th></th><th>year</th><th>week</th><th>total_pop</th><th>n_infected</th><th>n_symptomatic</th></tr><tr><th></th><th title=\"Any\">Any</th><th title=\"Any\">Any</th><th title=\"Any\">Any</th><th title=\"Any\">Any</th><th title=\"Any\">Any</th></tr></thead><tbody><tr><th>1</th><td>1</td><td>1</td><td>6963</td><td>343</td><td>56</td></tr><tr><th>2</th><td>1</td><td>2</td><td>6914</td><td>342</td><td>133</td></tr><tr><th>3</th><td>1</td><td>3</td><td>6786</td><td>336</td><td>209</td></tr><tr><th>4</th><td>1</td><td>4</td><td>6645</td><td>279</td><td>198</td></tr><tr><th>5</th><td>1</td><td>5</td><td>6451</td><td>201</td><td>165</td></tr><tr><th>6</th><td>1</td><td>6</td><td>6249</td><td>120</td><td>99</td></tr><tr><th>7</th><td>1</td><td>7</td><td>6046</td><td>76</td><td>65</td></tr><tr><th>8</th><td>1</td><td>8</td><td>5847</td><td>34</td><td>31</td></tr><tr><th>9</th><td>1</td><td>9</td><td>5672</td><td>20</td><td>19</td></tr><tr><th>10</th><td>1</td><td>10</td><td>5492</td><td>10</td><td>9</td></tr></tbody></table></div>"
      ],
      "text/latex": [
       "\\begin{tabular}{r|ccccc}\n",
       "\t& year & week & total\\_pop & n\\_infected & n\\_symptomatic\\\\\n",
       "\t\\hline\n",
       "\t& Any & Any & Any & Any & Any\\\\\n",
       "\t\\hline\n",
       "\t1 & 1 & 1 & 6963 & 343 & 56 \\\\\n",
       "\t2 & 1 & 2 & 6914 & 342 & 133 \\\\\n",
       "\t3 & 1 & 3 & 6786 & 336 & 209 \\\\\n",
       "\t4 & 1 & 4 & 6645 & 279 & 198 \\\\\n",
       "\t5 & 1 & 5 & 6451 & 201 & 165 \\\\\n",
       "\t6 & 1 & 6 & 6249 & 120 & 99 \\\\\n",
       "\t7 & 1 & 7 & 6046 & 76 & 65 \\\\\n",
       "\t8 & 1 & 8 & 5847 & 34 & 31 \\\\\n",
       "\t9 & 1 & 9 & 5672 & 20 & 19 \\\\\n",
       "\t10 & 1 & 10 & 5492 & 10 & 9 \\\\\n",
       "\\end{tabular}\n"
      ],
      "text/plain": [
       "\u001b[1m10×5 DataFrame\u001b[0m\n",
       "\u001b[1m Row \u001b[0m│\u001b[1m year \u001b[0m\u001b[1m week \u001b[0m\u001b[1m total_pop \u001b[0m\u001b[1m n_infected \u001b[0m\u001b[1m n_symptomatic \u001b[0m\n",
       "\u001b[1m     \u001b[0m│\u001b[90m Any  \u001b[0m\u001b[90m Any  \u001b[0m\u001b[90m Any       \u001b[0m\u001b[90m Any        \u001b[0m\u001b[90m Any           \u001b[0m\n",
       "─────┼──────────────────────────────────────────────────\n",
       "   1 │ 1     1     6963       343         56\n",
       "   2 │ 1     2     6914       342         133\n",
       "   3 │ 1     3     6786       336         209\n",
       "   4 │ 1     4     6645       279         198\n",
       "   5 │ 1     5     6451       201         165\n",
       "   6 │ 1     6     6249       120         99\n",
       "   7 │ 1     7     6046       76          65\n",
       "   8 │ 1     8     5847       34          31\n",
       "   9 │ 1     9     5672       20          19\n",
       "  10 │ 1     10    5492       10          9"
      ]
     },
     "metadata": {},
     "output_type": "display_data"
    }
   ],
   "source": [
    "# NEXT STEPS: add data frame of summary info\n",
    "\n",
    "# Create empty data frame\n",
    "outputs = DataFrame([[], [], [], [], []], [\"year\", \"week\", \"total_pop\", \"n_infected\", \"n_symptomatic\"])\n",
    "\n",
    "#Just the model results\n",
    "time_steps = 10\n",
    "years = 1\n",
    "\n",
    "# progress bar\n",
    "p = Progress(time_steps*years)\n",
    "\n",
    "for year in 1:years\n",
    "    for step in 1:time_steps\n",
    "        # all guys age 1 week\n",
    "        lil_guys.age = lil_guys.age .+ 1\n",
    "\n",
    "        # Juveniles reaching independence (default 30 weeks) disperse\n",
    "        if size(filter(:age => ==(30), lil_guys),1) > 0 # can change to desired dispersal age\n",
    "            juvies_leave(lil_guys)\n",
    "        end\n",
    "\n",
    "        # Lots of death\n",
    "        dont_fear_the_reaper(lil_guys, 2)\n",
    "\n",
    "        # Move around\n",
    "        moves = look_around.(lil_guys.x, lil_guys.y)\n",
    "        move(moves, lil_guys, 500, -0.05)\n",
    "\n",
    "        # Function where some infected guys become symptomatic\n",
    "        begin_symptoms(lil_guys)\n",
    "\n",
    "        # Update time since infection & disease\n",
    "        lil_guys.time_since_inf[lil_guys.incubation .== 1] = lil_guys.time_since_inf[lil_guys.incubation.==1] .+ 1\n",
    "        lil_guys.time_since_disease[lil_guys.infectious.==1] = lil_guys.time_since_disease[lil_guys.infectious.==1] .+ 1\n",
    "\n",
    "        # Reproduction occurs at specific time steps\n",
    "        if step % 20 == 0\n",
    "            reproduce(lil_guys)\n",
    "        end\n",
    "\n",
    "        # Vaccine baits are distributed at specific time steps\n",
    "        if step % 45 == 0\n",
    "            ORV(lil_guys)\n",
    "        end \n",
    "\n",
    "        # Calculate summary statistics and append to data frame\n",
    "        row = [years, step, size(lil_guys,1), sum(lil_guys.incubation), sum(lil_guys.infectious)]\n",
    "\n",
    "        push!(outputs, row)\n",
    "        \n",
    "        next!(p)\n",
    "        \n",
    "    end\n",
    "end\n",
    "outputs\n",
    "#lil_guys\n",
    "#lil_guys[lil_guys.incubation .== 1,:]\n",
    "#CSV.write(\"outputs.csv\", outputs)"
   ]
  },
  {
   "cell_type": "code",
   "execution_count": 33,
   "metadata": {},
   "outputs": [],
   "source": [
    "#=\n",
    "#gif\n",
    "time_steps = 10\n",
    "\n",
    "anim = @animate for step in 1:time_steps\n",
    "\n",
    "    moves = look_around.(lil_guys.x, lil_guys.y)\n",
    "    move(moves, lil_guys)\n",
    "\n",
    "    fig = Plots.heatmap(landscape, c = :grays)\n",
    "    Plots.plot!(lil_guys.x, lil_guys.y, seriestype = :scatter, color = lil_guys.infectious)\n",
    "\n",
    "end\n",
    "\n",
    "gif(anim, fps = 4)\n",
    "=#"
   ]
  }
 ],
 "metadata": {
  "kernelspec": {
   "display_name": "Julia 1.9.2",
   "language": "julia",
   "name": "julia-1.9"
  },
  "language_info": {
   "file_extension": ".jl",
   "mimetype": "application/julia",
   "name": "julia",
   "version": "1.9.2"
  },
  "orig_nbformat": 4
 },
 "nbformat": 4,
 "nbformat_minor": 2
}
