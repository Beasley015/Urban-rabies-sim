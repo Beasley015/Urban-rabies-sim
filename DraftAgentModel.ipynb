{
 "cells": [
  {
   "cell_type": "code",
   "execution_count": 1,
   "metadata": {},
   "outputs": [],
   "source": [
    "#=\n",
    "# Package installation\n",
    "using Pkg\n",
    "Pkg.add(\"DataFrames\")\n",
    "Pkg.add(\"StatsBase\")\n",
    "Pkg.add(\"NeutralLandscapes\")\n",
    "Pkg.add(\"PkgCite\")\n",
    "Pkg.add(\"Plots\")\n",
    "Pkg.add(\"PGFPlotsX\")\n",
    "Pkg.add(\"Distributions\")\n",
    "Pkg.add(\"GeoData\")\n",
    "Pkg.add(\"Counters\")\n",
    "Pkg.add(\"ProgressMeter\")\n",
    "Pkg.add(\"CSV\")\n",
    "=#"
   ]
  },
  {
   "cell_type": "code",
   "execution_count": 2,
   "metadata": {},
   "outputs": [],
   "source": [
    "using DataFrames\n",
    "using StatsBase\n",
    "using Distributions\n",
    "using Random\n",
    "using NeutralLandscapes # There's an incompatability compiling this with another package, but the ones here aren't it\n",
    "using PkgCite\n",
    "using Plots; pgfplotsx()\n",
    "using GeoData\n",
    "using Counters\n",
    "using ProgressMeter\n",
    "using CSV"
   ]
  },
  {
   "cell_type": "code",
   "execution_count": 3,
   "metadata": {},
   "outputs": [
    {
     "data": {
      "text/html": [
       "<div class=\"data-frame\"><p>8 rows × 3 columns</p><table class=\"data-frame\"><thead><tr><th></th><th>type</th><th>prop</th><th>coef</th></tr><tr><th></th><th title=\"String\">String</th><th title=\"Float64\">Float64</th><th title=\"Float64\">Float64</th></tr></thead><tbody><tr><th>1</th><td>forest</td><td>0.224461</td><td>0.12</td></tr><tr><th>2</th><td>developed</td><td>0.252374</td><td>-0.5</td></tr><tr><th>3</th><td>pasture</td><td>0.134121</td><td>-0.03</td></tr><tr><th>4</th><td>wetlands</td><td>0.0629525</td><td>0.57</td></tr><tr><th>5</th><td>herbaceous</td><td>0.00344292</td><td>0.0</td></tr><tr><th>6</th><td>cultivated</td><td>0.0186933</td><td>-0.5</td></tr><tr><th>7</th><td>barren</td><td>0.0023558</td><td>0.0</td></tr><tr><th>8</th><td>shrub</td><td>0.00209113</td><td>0.4</td></tr></tbody></table></div>"
      ],
      "text/latex": [
       "\\begin{tabular}{r|ccc}\n",
       "\t& type & prop & coef\\\\\n",
       "\t\\hline\n",
       "\t& String & Float64 & Float64\\\\\n",
       "\t\\hline\n",
       "\t1 & forest & 0.224461 & 0.12 \\\\\n",
       "\t2 & developed & 0.252374 & -0.5 \\\\\n",
       "\t3 & pasture & 0.134121 & -0.03 \\\\\n",
       "\t4 & wetlands & 0.0629525 & 0.57 \\\\\n",
       "\t5 & herbaceous & 0.00344292 & 0.0 \\\\\n",
       "\t6 & cultivated & 0.0186933 & -0.5 \\\\\n",
       "\t7 & barren & 0.0023558 & 0.0 \\\\\n",
       "\t8 & shrub & 0.00209113 & 0.4 \\\\\n",
       "\\end{tabular}\n"
      ],
      "text/plain": [
       "\u001b[1m8×3 DataFrame\u001b[0m\n",
       "\u001b[1m Row \u001b[0m│\u001b[1m type       \u001b[0m\u001b[1m prop       \u001b[0m\u001b[1m coef    \u001b[0m\n",
       "\u001b[1m     \u001b[0m│\u001b[90m String     \u001b[0m\u001b[90m Float64    \u001b[0m\u001b[90m Float64 \u001b[0m\n",
       "─────┼─────────────────────────────────\n",
       "   1 │ forest      0.224461       0.12\n",
       "   2 │ developed   0.252374      -0.5\n",
       "   3 │ pasture     0.134121      -0.03\n",
       "   4 │ wetlands    0.0629525      0.57\n",
       "   5 │ herbaceous  0.00344292     0.0\n",
       "   6 │ cultivated  0.0186933     -0.5\n",
       "   7 │ barren      0.0023558      0.0\n",
       "   8 │ shrub       0.00209113     0.4"
      ]
     },
     "metadata": {},
     "output_type": "display_data"
    }
   ],
   "source": [
    "# read Burlington raster \n",
    "Buland = geoarray(\"BurlingtonRaster.gri\")\n",
    "# this raster is ~25km in width\n",
    "\n",
    "# Get rid of 3rd dim\n",
    "Buland_array = collect(convert(Array{Float64}, Buland)[:,:,1])\n",
    "\n",
    "# Check for rows of all NaN\n",
    "na_sums = sum(convert(Array{Float64}, isnan.(Buland_array)),dims=1)\n",
    "\n",
    "na_sums[na_sums .== size(Buland_array,2)] #all rows have meaningful values; proceed\n",
    "\n",
    "# Get percentages of each land cover type\n",
    "c = Counter{Float64}()\n",
    "incr!(c, Buland_array)\n",
    "\n",
    "land_proportions = [c[unique(Buland_array)[i]]/sum(c) for i in 1:length(unique(Buland_array))]\n",
    "\n",
    "#=\n",
    "Values from National Land Cover Database\n",
    "41 = Forest\n",
    "21 = Developed\n",
    "81 = Pasture\n",
    "90 = wetlands\n",
    "71 = herbaceous\n",
    "82 = cultivated crops\n",
    "31 = barren\n",
    "52 = shrub/scrub\n",
    "=#\n",
    "\n",
    "hab_names = [\"forest\", \"developed\", \"pasture\", \"wetlands\", \"herbaceous\", \"cultivated\", \"barren\", \"shrub\"]\n",
    "hab_coefs = [0.12, -0.5, -0.03, 0.57, 0, -0.5, 0, 0.4]\n",
    "hab_frame = DataFrame(type = hab_names, prop = land_proportions[2:9], coef = hab_coefs)"
   ]
  },
  {
   "cell_type": "code",
   "execution_count": 4,
   "metadata": {},
   "outputs": [
    {
     "data": {
      "text/plain": [
       "initialize_land (generic function with 2 methods)"
      ]
     },
     "metadata": {},
     "output_type": "display_data"
    }
   ],
   "source": [
    "# Create simulated landscapes\n",
    "function initialize_land(land_size = 60)\n",
    "    # 1 cell = 0.5 km by 0.5 km\n",
    "    # 5-cell buffer in outputs\n",
    "\n",
    "    # Create neutral landscape based on real habitat proportions\n",
    "    clustered_land = rand(NearestNeighborCluster(0.2), (land_size, land_size))\n",
    "    landscape = NeutralLandscapes.classify(clustered_land, land_proportions[2:9])\n",
    "\n",
    "    return landscape\n",
    "end"
   ]
  },
  {
   "cell_type": "code",
   "execution_count": 5,
   "metadata": {},
   "outputs": [
    {
     "data": {
      "text/plain": [
       "populate_landscape (generic function with 1 method)"
      ]
     },
     "metadata": {},
     "output_type": "display_data"
    }
   ],
   "source": [
    "function populate_landscape(;land_size = 60, guy_density = 2.75, seros)\n",
    "    # Define corners of landscape\n",
    "    xmin = 1; xmax = land_size\n",
    "    ymin = 1; ymax = land_size\n",
    "    land_area = xmax*ymax\n",
    "\n",
    "    # get number of guys based on landscape size & density\n",
    "    nguys = rand(Poisson(land_area*guy_density))\n",
    "\n",
    "    # Create data frame of guys\n",
    "    lil_guys = DataFrame(id = string.(collect(1:nguys)), x = convert.(Int64,trunc.(xmax*rand(nguys,1)))[:,1],\n",
    "        y = convert.(Int64,trunc.(ymax*rand(nguys,1)))[:,1], incubation = 0, time_since_inf = 0, infectious = 0, time_since_disease = 0,\n",
    "        sex = Int.(rand(Bernoulli(0.5), nguys)), mom = NaN, vaccinated = 0, age = rand(52:(52*8), nguys))\n",
    "\n",
    "    # Remove 0's \n",
    "    lil_guys.x[lil_guys.x .== 0] .= 1\n",
    "    lil_guys.y[lil_guys.y .== 0] .= 1\n",
    "\n",
    "    # Initialize disease\n",
    "    lil_guys.incubation[rand(1:nguys,convert(Int64,round(nguys * 0.01)))] .= 1\n",
    "    lil_guys.time_since_inf = ifelse.(lil_guys.incubation .== 1, 1, lil_guys.time_since_inf)\n",
    "\n",
    "    # Initialize immunity\n",
    "    lil_guys.vaccinated[lil_guys.incubation .!= 1] = rand(Bernoulli(seros), length(lil_guys.vaccinated[lil_guys.incubation .!= 1]))\n",
    "\n",
    "    return lil_guys\n",
    "end"
   ]
  },
  {
   "cell_type": "code",
   "execution_count": 6,
   "metadata": {},
   "outputs": [
    {
     "data": {
      "text/plain": [
       "look_around (generic function with 1 method)"
      ]
     },
     "metadata": {},
     "output_type": "display_data"
    }
   ],
   "source": [
    "# Create function for the guys to look at their surroundings\n",
    "function look_around(x,y,land_size)\n",
    "    # Get vector of all possible moves\n",
    "    all_moves = [(x-1, y+1), (x, y+1), (x+1, y+1),\n",
    "                (x-1, y), (x,y), (x+1, y),\n",
    "                (x-1, y-1), (x, y-1), (x+1, y-1)]\n",
    "\n",
    "    # Get indices of impossible moves\n",
    "    good_moves = findall([(0 .< x[1] .<= land_size) .&& (0 .< x[2] .<= land_size) for x in all_moves])\n",
    "\n",
    "    # Remove impossible moves\n",
    "    poss_moves = deepcopy(all_moves[good_moves])\n",
    "\n",
    "    return poss_moves\n",
    "end"
   ]
  },
  {
   "cell_type": "code",
   "execution_count": 7,
   "metadata": {},
   "outputs": [
    {
     "data": {
      "text/plain": [
       "move (generic function with 3 methods)"
      ]
     },
     "metadata": {},
     "output_type": "display_data"
    }
   ],
   "source": [
    "# Movement and disease function\n",
    "function move(coords, dat, home, landscape, reso=500, rate=-0.5)\n",
    "    # Where coords = list of tuples representing possible moves,\n",
    "    # dat = data frame of agents,\n",
    "    # reso = width/height of grid cell in meters\n",
    "    # rate = rate of distance-decay. Based on trial and error so raccoons typically stay ~1km from home\n",
    "\n",
    "    # Create blank array\n",
    "    habs = Vector(undef, length(coords))\n",
    "\n",
    "    # Get habitat type to create weights\n",
    "    for i in 1:length(coords)\n",
    "        habs[i] = landscape[CartesianIndex.([x[1] for x in coords[i]], [x[2] for x in coords[i]])]\n",
    "    end\n",
    "\n",
    "    # Match habitats to McClure coefficients\n",
    "    hab_prefs = Vector(undef, length(coords))\n",
    "    for i in 1:length(coords)\n",
    "        hab_prefs[i] = hab_frame.coef[convert.(Int64, habs[i])]\n",
    "    end\n",
    "   \n",
    "    # Movement weights as a function of distance from initial coords\n",
    "    distances = Vector(undef, length(coords))\n",
    "    dist_weights = Vector(undef, length(coords))\n",
    "    for i in 1:length(coords)\n",
    "        home_loc = (home.x[i], home.y[i]) # This line is throwing the error\n",
    "        distances[i] = ((([x[1] for x in coords[i]].-home_loc[1]).^2 .+ ([x[2] for x in coords[i]].-home_loc[2]).^2)*reso)/100\n",
    "        dist_weights[i] = exp.(rate .* distances[i])\n",
    "    end\n",
    "\n",
    "    # Combine habitat and distance-decay weights\n",
    "    weights = Vector(undef, length(dist_weights))\n",
    "    for i in 1:length(dist_weights)\n",
    "        weights[i] = dist_weights[i] .* hab_prefs[i]\n",
    "    end\n",
    "\n",
    "    # Choose new location\n",
    "    new_location = sample.(coords, Weights.(weights))\n",
    "\n",
    "    # Make it a df\n",
    "    new_spots = DataFrame(x = [x[1] for x in new_location], y = [x[2] for x in new_location])\n",
    "\n",
    "    # Update data frame\n",
    "    dat.x = deepcopy(new_spots.x)\n",
    "    dat.y = deepcopy(new_spots.y)\n",
    "\n",
    "    # kids follow mom\n",
    "    kids = findall(dat.age .< 20)\n",
    "\n",
    "    # Sometimes mom died, so need to filter orphans out to murder later\n",
    "    poss_indices = [findall(dat.id .== dat.mom[kids][i]) for i in 1:length(kids)]\n",
    "    blanks = findall(isempty.(poss_indices) .== 1)\n",
    "    deleteat!(kids, blanks)\n",
    "    \n",
    "    indices = vcat(poss_indices...)\n",
    "\n",
    "    # New kid coords\n",
    "    x_coords = deepcopy(dat.x[indices])\n",
    "    y_coords = deepcopy(dat.y[indices])\n",
    "\n",
    "    dat.x[kids] = deepcopy(x_coords)\n",
    "    dat.y[kids] = deepcopy(y_coords)\n",
    "  \n",
    "    # Disease transmission\n",
    "    if length(filter(kv -> kv.second > 1, countmap(new_location))) > 0\n",
    "        # get coordinates where there are multiple guys\n",
    "        many_guys = collect(keys(filter(kv -> kv.second > 1, countmap(new_location))))\n",
    "        indices = [findall(==(x), new_location) for x in many_guys]\n",
    "\n",
    "        # spread disease\n",
    "        diseases = deepcopy(dat.infectious)\n",
    "        vax_rows = findall(x->x==1, dat.vaccinated)\n",
    "\n",
    "        for i in 1:length(indices) # issue with indexing somewhere in here?\n",
    "            # Remove vaccinated guys\n",
    "            to_remove = findall(in(intersect(vax_rows, indices[i])), indices[i])\n",
    "            indices[i] = ifelse(length(to_remove) > 0, deleteat!(indices[i], to_remove), indices[i])\n",
    "\n",
    "            # spread disease to unvaccinated guys\n",
    "            if any(diseases[indices[i]] .== 1)\n",
    "                test = diseases[indices[i]]\n",
    "                test[test .!= 1].= rand(Bernoulli(0.3), length(test[test .!= 1]))\n",
    "\n",
    "                diseases[indices[i]] = test\n",
    "            end  \n",
    "        end\n",
    "\n",
    "        # Keep existing infections\n",
    "        diseases[findall(dat.incubation .== 1)] .= 1\n",
    "        \n",
    "        dat.incubation = deepcopy(diseases) \n",
    "\n",
    "    end \n",
    "end"
   ]
  },
  {
   "cell_type": "code",
   "execution_count": 8,
   "metadata": {},
   "outputs": [
    {
     "data": {
      "text/plain": [
       "begin_symptoms (generic function with 1 method)"
      ]
     },
     "metadata": {},
     "output_type": "display_data"
    }
   ],
   "source": [
    "# Transition from incubation period to infectious period\n",
    "function begin_symptoms(dat)\n",
    "    prob = rand.(Beta.(dat.time_since_inf[(dat.incubation .== 1) .& (dat.infectious .== 0)] .+ 0.000000000001,5))\n",
    "\n",
    "    if length(prob) > 0\n",
    "        dat.infectious[(dat.incubation .== 1) .& (dat.infectious .== 0)] = reduce(vcat,rand.(Bernoulli.(prob), 1))\n",
    "    end\n",
    "end"
   ]
  },
  {
   "cell_type": "code",
   "execution_count": 9,
   "metadata": {},
   "outputs": [
    {
     "data": {
      "text/plain": [
       "reproduce (generic function with 1 method)"
      ]
     },
     "metadata": {},
     "output_type": "display_data"
    }
   ],
   "source": [
    "# Reproduction function\n",
    "function reproduce(dat, home)\n",
    "    # Get females only\n",
    "    females = filter(:sex => ==(1), dat)\n",
    "    \n",
    "    # Choose females that actually reproduce\n",
    "    reproducing = females[randsubseq(1:size(females,1), 0.5),:]\n",
    "\n",
    "    # Assign number of offspring to each reproducing female\n",
    "    noffspring = rand(Poisson(2), size(reproducing,1))\n",
    "\n",
    "    # Create offspring at location of mother\n",
    "    devil_spawn = DataFrame(x = Int[], y = Int[], mom = String[])\n",
    "    for i in 1:length(noffspring)\n",
    "        for j in 1:noffspring[i]\n",
    "            push!(devil_spawn, (reproducing.x[i], reproducing.y[i], reproducing.id[i]))\n",
    "        end\n",
    "    end\n",
    "\n",
    "    # Fill in missing cols\n",
    "    devil_spawn.incubation .= 0\n",
    "    devil_spawn.time_since_inf .= 0\n",
    "    devil_spawn.infectious .= 0\n",
    "    devil_spawn.time_since_disease .= 0\n",
    "    devil_spawn.sex .= Int.(rand(Bernoulli(0.5), size(devil_spawn,1)))\n",
    "    devil_spawn.vaccinated .= 0\n",
    "    devil_spawn.age .= 0\n",
    "\n",
    "    id_vector = collect((maximum(parse.(Int64,dat.id))+1):(maximum(parse.(Int64,dat.id))+size(devil_spawn,1)))\n",
    "    devil_spawn.id = string.(id_vector)\n",
    "\n",
    "    # Append to main dataset\n",
    "    append!(dat, devil_spawn, promote = true)\n",
    "    append!(home, DataFrame(id = devil_spawn.id, x=devil_spawn.x, y=devil_spawn.y), promote = true)\n",
    "    \n",
    "end"
   ]
  },
  {
   "cell_type": "code",
   "execution_count": 10,
   "metadata": {},
   "outputs": [
    {
     "data": {
      "text/plain": [
       "dont_fear_the_reaper (generic function with 2 methods)"
      ]
     },
     "metadata": {},
     "output_type": "display_data"
    }
   ],
   "source": [
    "# Mortality function\n",
    "function dont_fear_the_reaper(dat, home, time=2)\n",
    "    # disease mortality set at 2 weeks to avoid bug\n",
    "    \n",
    "    # random mortality\n",
    "    rand_deaths = rand(Bernoulli(0.005),size(dat,1))\n",
    "    deleteat!(dat, findall(rand_deaths==1))\n",
    "    deleteat!(home, findall(rand_deaths==1))\n",
    "\n",
    "    # disease mortality\n",
    "    deleteat!(home, findall(x -> x > time, dat.time_since_disease))\n",
    "    filter!(:time_since_disease => <=(time), dat)\n",
    "\n",
    "    # old age mortality\n",
    "    deleteat!(home, findall(x -> x >= (52*8), dat.age))\n",
    "    if length(findall(x-> x>=(52*8), dat.age)) > 0\n",
    "        filter!(:age => <(52*8), dat)\n",
    "    end\n",
    "    \n",
    "\n",
    "    # orphan mortality\n",
    "    kids = findall(dat.age .< 20)\n",
    "\n",
    "    no_mom = findall(x -> !(x in dat.id), dat.mom[kids])\n",
    "\n",
    "    deleteat!(home, no_mom)\n",
    "    filter!(:mom => !in(dat.mom[kids][no_mom]), dat)\n",
    "\n",
    "    # Density-related mortality\n",
    "    # get coordinates where there are multiple guys\n",
    "    new_location = Vector(undef, size(dat,1))\n",
    "    for i in 1:size(dat,1)\n",
    "        new_location[i] = (dat.x[i], dat.y[i]) \n",
    "    end\n",
    "\n",
    "    many_guys = collect(keys(filter(kv -> kv.second > 1, countmap(new_location))))\n",
    "    indices = [findall(==(x), new_location) for x in many_guys]\n",
    "\n",
    "    # Find cells with max number of guys or greater\n",
    "    too_many_guys = findall(length.(indices) .> 10) #can adjust this number\n",
    "\n",
    "    crowded_spots = many_guys[too_many_guys]\n",
    "\n",
    "    # Apply increased mortality\n",
    "    crowded_indices = Vector(undef, length(crowded_spots))\n",
    "    for i in 1:length(crowded_spots)\n",
    "        crowded_indices[i] = intersect(findall(x -> x == crowded_spots[i][1], dat.x), findall(x -> x == crowded_spots[i][2], dat.y))\n",
    "    end\n",
    "\n",
    "    crowding_deaths = sort(unique(vcat(crowded_indices[findall(rand(Bernoulli(0.1), length(crowded_indices)) .== 1)]...)))\n",
    "    \n",
    "    \n",
    "    if length(crowding_deaths) > 0\n",
    "        deleteat!(dat, crowding_deaths)\n",
    "        deleteat!(home, crowding_deaths)\n",
    "    end\n",
    "    \n",
    "end"
   ]
  },
  {
   "cell_type": "code",
   "execution_count": 11,
   "metadata": {},
   "outputs": [
    {
     "data": {
      "text/plain": [
       "ORV (generic function with 1 method)"
      ]
     },
     "metadata": {},
     "output_type": "display_data"
    }
   ],
   "source": [
    "# Vaccination function\n",
    "function ORV(;dat, land_size, land=nothing, sero_prob)\n",
    "    if land==nothing \n",
    "        # Create array of vaccination probabilities\n",
    "        land = fill(sero_prob, (land_size,land_size))\n",
    "    end\n",
    "\n",
    "    # Get probs of vaccination at guys' locations\n",
    "    vaxprob = land[CartesianIndex.(dat.x, dat.y)]\n",
    "\n",
    "    # Juveniles have lower probs\n",
    "    kids = findall(dat.age .< 52)\n",
    "    vaxprob[kids] = vaxprob[kids]./2\n",
    "\n",
    "    # Remove raccoons that have already been vaccinated\n",
    "    novax = findall(dat.vaccinated .== 0)\n",
    "    newvax = vaxprob[novax]\n",
    "\n",
    "    # Generate vaccine outcomes\n",
    "    vax = Int.(rand.(Bernoulli.(newvax)))\n",
    "\n",
    "    # Update data\n",
    "    dat.vaccinated[novax] = vax\n",
    "\n",
    "    return dat\n",
    "end"
   ]
  },
  {
   "cell_type": "code",
   "execution_count": 12,
   "metadata": {},
   "outputs": [
    {
     "data": {
      "text/plain": [
       "juvies_leave (generic function with 2 methods)"
      ]
     },
     "metadata": {},
     "output_type": "display_data"
    }
   ],
   "source": [
    "# Juvenile distribution\n",
    "function juvies_leave(dat, home, land_size, dispersal_age=30)\n",
    "    # Get Juveniles\n",
    "    juvies = dat[findall(x -> x==30, dat.age),:]\n",
    "\n",
    "    # Create break point so it doesn't get stuck\n",
    "    niter = 0\n",
    "\n",
    "    while size(juvies,1) > 0\n",
    "        niter = niter + 1\n",
    "\n",
    "        # Pick a direction from list of inline functions\n",
    "        upleft(x,y)=[x-1, y+1]; up(x,y)=[x, y+1]; upright(x,y)=[x+1, y+1]\n",
    "        left(x,y)=[x-1, y]; right(x,y)=[x+1, y]\n",
    "        downleft(x,y)=[x-1, y-1]; down(x,y)=[x, y-1]; downright(x,y)=[x+1, y-1]\n",
    "        directions = rand([upleft, up, upright, left, right, \n",
    "                        downleft, down, downright], size(juvies,1))\n",
    "\n",
    "        # Get dispersal distance\n",
    "        distances = rand(Poisson(10), size(juvies,1))\n",
    "\n",
    "        # RUN!\n",
    "        coords = Vector(undef, size(juvies,1))\n",
    "\n",
    "        for i in 1:length(distances)\n",
    "            coords[i] = [juvies.x[i], juvies.y[i]]\n",
    "                for j in 1:distances[i]\n",
    "                coords[i] = directions[i](coords[i][1], coords[i][2])\n",
    "            end\n",
    "        end\n",
    "\n",
    "        # Remove juveniles that left the landscape\n",
    "        new_juvies = juvies[all.(x-> 0<x<land_size, coords),:]\n",
    "        gone_juvies = juvies[all.(x-> x<0 || x > land_size, coords),:]\n",
    "\n",
    "        # Update full data frame\n",
    "        indices=findall(x-> x in(new_juvies.id), dat.id)\n",
    "        gone_indices = findall(x-> x in(gone_juvies.id), dat.id)\n",
    "        dat[indices,:]=new_juvies\n",
    "        deleteat!(dat, gone_indices)\n",
    "\n",
    "        # Update home coords data frame\n",
    "        home.x[indices] = new_juvies.x\n",
    "        home.y[indices] = new_juvies.y\n",
    "        home.id[indices] = new_juvies.id\n",
    "        deleteat!(home, gone_indices)\n",
    "    \n",
    "        # Find coordinates with multiple guys\n",
    "        new_location = Vector(undef, size(dat,1))\n",
    "        for i in 1:size(dat,1)\n",
    "            new_location[i] = (dat.x[i], dat.y[i]) \n",
    "        end\n",
    "    \n",
    "        many_guys = collect(keys(filter(kv -> kv.second > 1, countmap(new_location))))\n",
    "        indices = [findall(==(x), new_location) for x in many_guys]\n",
    "    \n",
    "        # Find cells with less than max number of guys\n",
    "        enough_guys = findall(length.(indices) .<= 10) #can adjust this number\n",
    "    \n",
    "        good_spots = many_guys[enough_guys]\n",
    "    \n",
    "        good_indices = Vector(undef, length(good_spots))\n",
    "        for i in 1:length(good_spots)\n",
    "            good_indices[i] = intersect(findall(x -> x == good_spots[i][1], new_juvies.x), findall(x -> x == good_spots[i][2], new_juvies.y))\n",
    "        end    \n",
    "\n",
    "        deleteat!(new_juvies,sort(unique(vcat(good_indices...))))\n",
    "\n",
    "        # Start the cycle again\n",
    "        juvies = deepcopy(new_juvies)\n",
    "\n",
    "        if niter > 5\n",
    "            break\n",
    "        end\n",
    "    end\n",
    "end"
   ]
  },
  {
   "cell_type": "code",
   "execution_count": 13,
   "metadata": {},
   "outputs": [
    {
     "data": {
      "text/plain": [
       "the_mega_loop (generic function with 1 method)"
      ]
     },
     "metadata": {},
     "output_type": "display_data"
    }
   ],
   "source": [
    "function the_mega_loop(years, seros, rep)\n",
    "    # Define weeks per year\n",
    "    time_steps = 52\n",
    "\n",
    "    # Define seroprevalence\n",
    "    seroprev = seros\n",
    "\n",
    "    # create landscape\n",
    "    land_size = 60\n",
    "    landscape = initialize_land(land_size)\n",
    "\n",
    "    # Populate landscape\n",
    "    lil_guys = populate_landscape(seros=seroprev)\n",
    "\n",
    "    # define home coordinates for distance-decay function\n",
    "    home_coords = deepcopy(lil_guys[:,[1,2,3]])\n",
    "\n",
    "    for year in 1:years\n",
    "        for step in 1:time_steps\n",
    "            # Move around\n",
    "            moves = look_around.(lil_guys.x, lil_guys.y, land_size)\n",
    "            move(moves, lil_guys, home_coords, landscape, 500, -0.05)\n",
    "\n",
    "            # Lots of death\n",
    "            dont_fear_the_reaper(lil_guys, home_coords, 2)\n",
    "\n",
    "            # Juveniles reaching independence (default 30 weeks) disperse\n",
    "            if size(filter(:age => ==(30), lil_guys),1) > 0 # can change to desired dispersal age\n",
    "                juvies_leave(lil_guys, home_coords, land_size)\n",
    "            end\n",
    "\n",
    "            # Reproduction occurs at specific time steps\n",
    "            if step == 20 \n",
    "                reproduce(lil_guys, home_coords)\n",
    "            end\n",
    "\n",
    "            # Vaccine baits are distributed at specific time steps\n",
    "            if step == 45 \n",
    "                ORV(dat=lil_guys, land_size=land_size, sero_prob=seroprev)\n",
    "            end \n",
    "        \n",
    "            # Function where some infected guys become symptomatic\n",
    "            begin_symptoms(lil_guys)\n",
    "\n",
    "            # all guys age 1 week\n",
    "            lil_guys.age = lil_guys.age .+ 1\n",
    "\n",
    "            # Update time since infection & disease\n",
    "            lil_guys.time_since_inf[lil_guys.incubation .== 1] = lil_guys.time_since_inf[lil_guys.incubation.==1] .+ 1\n",
    "            lil_guys.time_since_disease[lil_guys.infectious.==1] = lil_guys.time_since_disease[lil_guys.infectious.==1] .+ 1\n",
    "\n",
    "            # Filter out buffer zone\n",
    "            buffer = filter([:x, :y] => (x, y) -> 5 < x < 55 && 5 < y < 55, lil_guys)\n",
    "\n",
    "            # Calculate summary statistics and append to data frame\n",
    "            row = [rep, year, step, size(buffer,1), sum(buffer.incubation), sum(buffer.infectious)]\n",
    "            push!(outputs, row)\n",
    "            \n",
    "        end\n",
    "    end\n",
    "end"
   ]
  },
  {
   "cell_type": "code",
   "execution_count": 14,
   "metadata": {},
   "outputs": [
    {
     "name": "stderr",
     "output_type": "stream",
     "text": [
      "\r\u001b[32mProgress:   0%|█                                        |  ETA: 6:16:18\u001b[39m\u001b[K"
     ]
    },
    {
     "name": "stderr",
     "output_type": "stream",
     "text": [
      "\r\u001b[32mProgress:   1%|█                                        |  ETA: 5:36:28\u001b[39m\u001b[K"
     ]
    },
    {
     "name": "stderr",
     "output_type": "stream",
     "text": [
      "\r\u001b[32mProgress:   1%|█                                        |  ETA: 5:41:48\u001b[39m\u001b[K"
     ]
    },
    {
     "name": "stderr",
     "output_type": "stream",
     "text": [
      "\r\u001b[32mProgress:   1%|█                                        |  ETA: 6:13:21\u001b[39m\u001b[K"
     ]
    },
    {
     "name": "stderr",
     "output_type": "stream",
     "text": [
      "\r\u001b[32mProgress:   1%|█                                        |  ETA: 6:44:39\u001b[39m\u001b[K"
     ]
    },
    {
     "name": "stderr",
     "output_type": "stream",
     "text": [
      "\r\u001b[32mProgress:   2%|█                                        |  ETA: 6:43:31\u001b[39m\u001b[K"
     ]
    },
    {
     "name": "stderr",
     "output_type": "stream",
     "text": [
      "\r\u001b[32mProgress:   2%|█                                        |  ETA: 6:58:50\u001b[39m\u001b[K"
     ]
    },
    {
     "name": "stderr",
     "output_type": "stream",
     "text": [
      "\r\u001b[32mProgress:   2%|█                                        |  ETA: 6:59:52\u001b[39m\u001b[K"
     ]
    },
    {
     "name": "stderr",
     "output_type": "stream",
     "text": [
      "\r\u001b[32mProgress:   2%|█                                        |  ETA: 7:12:11\u001b[39m\u001b[K"
     ]
    },
    {
     "name": "stderr",
     "output_type": "stream",
     "text": [
      "\r\u001b[32mProgress:   2%|██                                       |  ETA: 7:14:00\u001b[39m\u001b[K"
     ]
    },
    {
     "name": "stderr",
     "output_type": "stream",
     "text": [
      "\r\u001b[32mProgress:   3%|██                                       |  ETA: 7:25:17\u001b[39m\u001b[K"
     ]
    },
    {
     "name": "stderr",
     "output_type": "stream",
     "text": [
      "\r\u001b[32mProgress:   3%|██                                       |  ETA: 7:28:01\u001b[39m\u001b[K"
     ]
    },
    {
     "name": "stderr",
     "output_type": "stream",
     "text": [
      "\r\u001b[32mProgress:   3%|██                                       |  ETA: 7:21:49\u001b[39m\u001b[K"
     ]
    },
    {
     "name": "stderr",
     "output_type": "stream",
     "text": [
      "\r\u001b[32mProgress:   3%|██                                       |  ETA: 7:24:54\u001b[39m\u001b[K"
     ]
    },
    {
     "name": "stderr",
     "output_type": "stream",
     "text": [
      "\r\u001b[32mProgress:   4%|██                                       |  ETA: 7:21:31\u001b[39m\u001b[K"
     ]
    },
    {
     "name": "stderr",
     "output_type": "stream",
     "text": [
      "\r\u001b[32mProgress:   4%|██                                       |  ETA: 7:24:03\u001b[39m\u001b[K"
     ]
    },
    {
     "name": "stderr",
     "output_type": "stream",
     "text": [
      "\r\u001b[32mProgress:   4%|██                                       |  ETA: 7:22:08\u001b[39m\u001b[K"
     ]
    },
    {
     "name": "stderr",
     "output_type": "stream",
     "text": [
      "\r\u001b[32mProgress:   4%|██                                       |  ETA: 7:16:12\u001b[39m\u001b[K"
     ]
    },
    {
     "name": "stderr",
     "output_type": "stream",
     "text": [
      "\r\u001b[32mProgress:   4%|██                                       |  ETA: 7:17:02\u001b[39m\u001b[K"
     ]
    },
    {
     "name": "stderr",
     "output_type": "stream",
     "text": [
      "\r\u001b[32mProgress:   5%|██                                       |  ETA: 7:19:36\u001b[39m\u001b[K"
     ]
    },
    {
     "name": "stderr",
     "output_type": "stream",
     "text": [
      "\r\u001b[32mProgress:   5%|███                                      |  ETA: 7:22:47\u001b[39m\u001b[K"
     ]
    },
    {
     "name": "stderr",
     "output_type": "stream",
     "text": [
      "\r\u001b[32mProgress:   5%|███                                      |  ETA: 7:15:59\u001b[39m\u001b[K"
     ]
    },
    {
     "name": "stderr",
     "output_type": "stream",
     "text": [
      "\r\u001b[32mProgress:   5%|███                                      |  ETA: 7:10:26\u001b[39m\u001b[K"
     ]
    },
    {
     "name": "stderr",
     "output_type": "stream",
     "text": [
      "\r\u001b[32mProgress:   6%|███                                      |  ETA: 7:06:25\u001b[39m\u001b[K"
     ]
    },
    {
     "name": "stderr",
     "output_type": "stream",
     "text": [
      "\r\u001b[32mProgress:   6%|███                                      |  ETA: 7:05:23\u001b[39m\u001b[K"
     ]
    },
    {
     "name": "stderr",
     "output_type": "stream",
     "text": [
      "\r\u001b[32mProgress:   6%|███                                      |  ETA: 7:05:03\u001b[39m\u001b[K"
     ]
    },
    {
     "name": "stderr",
     "output_type": "stream",
     "text": [
      "\r\u001b[32mProgress:   6%|███                                      |  ETA: 7:03:24\u001b[39m\u001b[K"
     ]
    },
    {
     "name": "stderr",
     "output_type": "stream",
     "text": [
      "\r\u001b[32mProgress:   6%|███                                      |  ETA: 7:00:17\u001b[39m\u001b[K"
     ]
    },
    {
     "name": "stderr",
     "output_type": "stream",
     "text": [
      "\r\u001b[32mProgress:   7%|███                                      |  ETA: 7:01:44\u001b[39m\u001b[K"
     ]
    },
    {
     "name": "stderr",
     "output_type": "stream",
     "text": [
      "\r\u001b[32mProgress:   7%|███                                      |  ETA: 7:01:36\u001b[39m\u001b[K"
     ]
    },
    {
     "name": "stderr",
     "output_type": "stream",
     "text": [
      "\r\u001b[32mProgress:   7%|███                                      |  ETA: 7:02:59\u001b[39m\u001b[K"
     ]
    },
    {
     "name": "stderr",
     "output_type": "stream",
     "text": [
      "\r\u001b[32mProgress:   7%|████                                     |  ETA: 7:05:08\u001b[39m\u001b[K"
     ]
    },
    {
     "name": "stderr",
     "output_type": "stream",
     "text": [
      "\r\u001b[32mProgress:   8%|████                                     |  ETA: 7:03:30\u001b[39m\u001b[K"
     ]
    },
    {
     "name": "stderr",
     "output_type": "stream",
     "text": [
      "\r\u001b[32mProgress:   8%|████                                     |  ETA: 7:04:53\u001b[39m\u001b[K"
     ]
    },
    {
     "name": "stderr",
     "output_type": "stream",
     "text": [
      "\r\u001b[32mProgress:   8%|████                                     |  ETA: 7:06:27\u001b[39m\u001b[K"
     ]
    },
    {
     "name": "stderr",
     "output_type": "stream",
     "text": [
      "\r\u001b[32mProgress:   8%|████                                     |  ETA: 7:09:06\u001b[39m\u001b[K"
     ]
    },
    {
     "name": "stderr",
     "output_type": "stream",
     "text": [
      "\r\u001b[32mProgress:   8%|████                                     |  ETA: 7:10:49\u001b[39m\u001b[K"
     ]
    },
    {
     "name": "stderr",
     "output_type": "stream",
     "text": [
      "\r\u001b[32mProgress:   9%|████                                     |  ETA: 7:08:59\u001b[39m\u001b[K"
     ]
    },
    {
     "name": "stderr",
     "output_type": "stream",
     "text": [
      "\r\u001b[32mProgress:   9%|████                                     |  ETA: 7:12:20\u001b[39m\u001b[K"
     ]
    },
    {
     "name": "stderr",
     "output_type": "stream",
     "text": [
      "\r\u001b[32mProgress:   9%|████                                     |  ETA: 7:11:38\u001b[39m\u001b[K"
     ]
    },
    {
     "name": "stderr",
     "output_type": "stream",
     "text": [
      "\r\u001b[32mProgress:   9%|████                                     |  ETA: 7:10:56\u001b[39m\u001b[K"
     ]
    },
    {
     "name": "stderr",
     "output_type": "stream",
     "text": [
      "\r\u001b[32mProgress:  10%|████                                     |  ETA: 7:09:51\u001b[39m\u001b[K"
     ]
    },
    {
     "name": "stderr",
     "output_type": "stream",
     "text": [
      "\r\u001b[32mProgress:  10%|█████                                    |  ETA: 7:05:35\u001b[39m\u001b[K"
     ]
    },
    {
     "name": "stderr",
     "output_type": "stream",
     "text": [
      "\r\u001b[32mProgress:  10%|█████                                    |  ETA: 7:00:51\u001b[39m\u001b[K"
     ]
    },
    {
     "name": "stderr",
     "output_type": "stream",
     "text": [
      "\r\u001b[32mProgress:  10%|█████                                    |  ETA: 6:56:07\u001b[39m\u001b[K"
     ]
    },
    {
     "name": "stderr",
     "output_type": "stream",
     "text": [
      "\r\u001b[32mProgress:  10%|█████                                    |  ETA: 6:52:44\u001b[39m\u001b[K"
     ]
    },
    {
     "name": "stderr",
     "output_type": "stream",
     "text": [
      "\r\u001b[32mProgress:  11%|█████                                    |  ETA: 6:53:12\u001b[39m\u001b[K"
     ]
    },
    {
     "name": "stderr",
     "output_type": "stream",
     "text": [
      "\r\u001b[32mProgress:  11%|█████                                    |  ETA: 6:51:14\u001b[39m\u001b[K"
     ]
    },
    {
     "name": "stderr",
     "output_type": "stream",
     "text": [
      "\r\u001b[32mProgress:  11%|█████                                    |  ETA: 6:50:23\u001b[39m\u001b[K"
     ]
    },
    {
     "name": "stderr",
     "output_type": "stream",
     "text": [
      "\r\u001b[32mProgress:  11%|█████                                    |  ETA: 6:50:14\u001b[39m\u001b[K"
     ]
    },
    {
     "name": "stderr",
     "output_type": "stream",
     "text": [
      "\r\u001b[32mProgress:  12%|█████                                    |  ETA: 6:52:55\u001b[39m\u001b[K"
     ]
    },
    {
     "name": "stderr",
     "output_type": "stream",
     "text": [
      "\r\u001b[32mProgress:  12%|█████                                    |  ETA: 6:55:01\u001b[39m\u001b[K"
     ]
    },
    {
     "name": "stderr",
     "output_type": "stream",
     "text": [
      "\r\u001b[32mProgress:  12%|█████                                    |  ETA: 6:56:47\u001b[39m\u001b[K"
     ]
    },
    {
     "name": "stderr",
     "output_type": "stream",
     "text": [
      "\r\u001b[32mProgress:  12%|██████                                   |  ETA: 6:57:23\u001b[39m\u001b[K"
     ]
    },
    {
     "name": "stderr",
     "output_type": "stream",
     "text": [
      "\r\u001b[32mProgress:  12%|██████                                   |  ETA: 6:58:27\u001b[39m\u001b[K"
     ]
    },
    {
     "name": "stderr",
     "output_type": "stream",
     "text": [
      "\r\u001b[32mProgress:  13%|██████                                   |  ETA: 6:59:21\u001b[39m\u001b[K"
     ]
    },
    {
     "name": "stderr",
     "output_type": "stream",
     "text": [
      "\r\u001b[32mProgress:  13%|██████                                   |  ETA: 7:00:28\u001b[39m\u001b[K"
     ]
    },
    {
     "name": "stderr",
     "output_type": "stream",
     "text": [
      "\r\u001b[32mProgress:  13%|██████                                   |  ETA: 7:00:13\u001b[39m\u001b[K"
     ]
    },
    {
     "name": "stderr",
     "output_type": "stream",
     "text": [
      "\r\u001b[32mProgress:  13%|██████                                   |  ETA: 7:00:29\u001b[39m\u001b[K"
     ]
    },
    {
     "name": "stderr",
     "output_type": "stream",
     "text": [
      "\r\u001b[32mProgress:  14%|██████                                   |  ETA: 7:02:07\u001b[39m\u001b[K"
     ]
    },
    {
     "name": "stderr",
     "output_type": "stream",
     "text": [
      "\r\u001b[32mProgress:  14%|██████                                   |  ETA: 7:03:04\u001b[39m\u001b[K"
     ]
    },
    {
     "name": "stderr",
     "output_type": "stream",
     "text": [
      "\r\u001b[32mProgress:  14%|██████                                   |  ETA: 10:05:38\u001b[39m\u001b[K"
     ]
    },
    {
     "name": "stderr",
     "output_type": "stream",
     "text": [
      "\r\u001b[32mProgress:  14%|██████                                   |  ETA: 10:00:42\u001b[39m\u001b[K"
     ]
    },
    {
     "name": "stderr",
     "output_type": "stream",
     "text": [
      "\r\u001b[32mProgress:  14%|██████                                   |  ETA: 9:59:33\u001b[39m\u001b[K"
     ]
    },
    {
     "name": "stderr",
     "output_type": "stream",
     "text": [
      "\r\u001b[32mProgress:  15%|███████                                  |  ETA: 10:00:30\u001b[39m\u001b[K"
     ]
    },
    {
     "name": "stderr",
     "output_type": "stream",
     "text": [
      "\r\u001b[32mProgress:  15%|███████                                  |  ETA: 10:00:49\u001b[39m\u001b[K"
     ]
    },
    {
     "name": "stderr",
     "output_type": "stream",
     "text": [
      "\r\u001b[32mProgress:  15%|███████                                  |  ETA: 9:59:39\u001b[39m\u001b[K"
     ]
    },
    {
     "name": "stderr",
     "output_type": "stream",
     "text": [
      "\r\u001b[32mProgress:  15%|███████                                  |  ETA: 9:58:37\u001b[39m\u001b[K"
     ]
    },
    {
     "name": "stderr",
     "output_type": "stream",
     "text": [
      "\r\u001b[32mProgress:  16%|███████                                  |  ETA: 9:57:58\u001b[39m\u001b[K"
     ]
    },
    {
     "name": "stderr",
     "output_type": "stream",
     "text": [
      "\r\u001b[32mProgress:  16%|███████                                  |  ETA: 9:57:06\u001b[39m\u001b[K"
     ]
    },
    {
     "name": "stderr",
     "output_type": "stream",
     "text": [
      "\r\u001b[32mProgress:  16%|███████                                  |  ETA: 9:58:19\u001b[39m\u001b[K"
     ]
    },
    {
     "name": "stderr",
     "output_type": "stream",
     "text": [
      "\r\u001b[32mProgress:  16%|███████                                  |  ETA: 9:57:30\u001b[39m\u001b[K"
     ]
    },
    {
     "name": "stderr",
     "output_type": "stream",
     "text": [
      "\r\u001b[32mProgress:  16%|███████                                  |  ETA: 9:56:57\u001b[39m\u001b[K"
     ]
    },
    {
     "name": "stderr",
     "output_type": "stream",
     "text": [
      "\r\u001b[32mProgress:  17%|███████                                  |  ETA: 9:56:16\u001b[39m\u001b[K"
     ]
    },
    {
     "name": "stderr",
     "output_type": "stream",
     "text": [
      "\r\u001b[32mProgress:  17%|███████                                  |  ETA: 9:55:27\u001b[39m\u001b[K"
     ]
    },
    {
     "name": "stderr",
     "output_type": "stream",
     "text": [
      "\r\u001b[32mProgress:  17%|████████                                 |  ETA: 9:55:05\u001b[39m\u001b[K"
     ]
    },
    {
     "name": "stderr",
     "output_type": "stream",
     "text": [
      "\r\u001b[32mProgress:  17%|████████                                 |  ETA: 9:54:50\u001b[39m\u001b[K"
     ]
    },
    {
     "name": "stderr",
     "output_type": "stream",
     "text": [
      "\r\u001b[32mProgress:  18%|████████                                 |  ETA: 9:55:29\u001b[39m\u001b[K"
     ]
    },
    {
     "name": "stderr",
     "output_type": "stream",
     "text": [
      "\r\u001b[32mProgress:  18%|████████                                 |  ETA: 9:55:33\u001b[39m\u001b[K"
     ]
    },
    {
     "name": "stderr",
     "output_type": "stream",
     "text": [
      "\r\u001b[32mProgress:  18%|████████                                 |  ETA: 9:56:45\u001b[39m\u001b[K"
     ]
    },
    {
     "name": "stderr",
     "output_type": "stream",
     "text": [
      "\r\u001b[32mProgress:  18%|████████                                 |  ETA: 9:55:22\u001b[39m\u001b[K"
     ]
    },
    {
     "name": "stderr",
     "output_type": "stream",
     "text": [
      "\r\u001b[32mProgress:  18%|████████                                 |  ETA: 9:50:59\u001b[39m\u001b[K"
     ]
    },
    {
     "name": "stderr",
     "output_type": "stream",
     "text": [
      "\r\u001b[32mProgress:  19%|████████                                 |  ETA: 9:45:50\u001b[39m\u001b[K"
     ]
    },
    {
     "name": "stderr",
     "output_type": "stream",
     "text": [
      "\r\u001b[32mProgress:  19%|████████                                 |  ETA: 9:40:50\u001b[39m\u001b[K"
     ]
    },
    {
     "name": "stderr",
     "output_type": "stream",
     "text": [
      "\r\u001b[32mProgress:  19%|████████                                 |  ETA: 9:35:50\u001b[39m\u001b[K"
     ]
    },
    {
     "name": "stderr",
     "output_type": "stream",
     "text": [
      "\r\u001b[32mProgress:  19%|████████                                 |  ETA: 9:30:48\u001b[39m\u001b[K"
     ]
    },
    {
     "name": "stderr",
     "output_type": "stream",
     "text": [
      "\r\u001b[32mProgress:  20%|█████████                                |  ETA: 9:26:09\u001b[39m\u001b[K"
     ]
    },
    {
     "name": "stderr",
     "output_type": "stream",
     "text": [
      "\r\u001b[32mProgress:  20%|█████████                                |  ETA: 9:20:56\u001b[39m\u001b[K"
     ]
    },
    {
     "name": "stderr",
     "output_type": "stream",
     "text": [
      "\r\u001b[32mProgress:  20%|█████████                                |  ETA: 9:16:25\u001b[39m\u001b[K"
     ]
    },
    {
     "name": "stderr",
     "output_type": "stream",
     "text": [
      "\r\u001b[32mProgress:  20%|█████████                                |  ETA: 9:11:53\u001b[39m\u001b[K"
     ]
    },
    {
     "name": "stderr",
     "output_type": "stream",
     "text": [
      "\r\u001b[32mProgress:  20%|█████████                                |  ETA: 9:07:35\u001b[39m\u001b[K"
     ]
    },
    {
     "name": "stderr",
     "output_type": "stream",
     "text": [
      "\r\u001b[32mProgress:  21%|█████████                                |  ETA: 9:02:57\u001b[39m\u001b[K"
     ]
    },
    {
     "name": "stderr",
     "output_type": "stream",
     "text": [
      "\r\u001b[32mProgress:  21%|█████████                                |  ETA: 8:58:31\u001b[39m\u001b[K"
     ]
    },
    {
     "name": "stderr",
     "output_type": "stream",
     "text": [
      "\r\u001b[32mProgress:  21%|█████████                                |  ETA: 8:54:09\u001b[39m\u001b[K"
     ]
    },
    {
     "name": "stderr",
     "output_type": "stream",
     "text": [
      "\r\u001b[32mProgress:  21%|█████████                                |  ETA: 8:49:59\u001b[39m\u001b[K"
     ]
    },
    {
     "name": "stderr",
     "output_type": "stream",
     "text": [
      "\r\u001b[32mProgress:  22%|█████████                                |  ETA: 8:45:52\u001b[39m\u001b[K"
     ]
    },
    {
     "name": "stderr",
     "output_type": "stream",
     "text": [
      "\r\u001b[32mProgress:  22%|█████████                                |  ETA: 8:41:43\u001b[39m\u001b[K"
     ]
    },
    {
     "name": "stderr",
     "output_type": "stream",
     "text": [
      "\r\u001b[32mProgress:  22%|██████████                               |  ETA: 8:39:28\u001b[39m\u001b[K"
     ]
    },
    {
     "name": "stderr",
     "output_type": "stream",
     "text": [
      "\r\u001b[32mProgress:  22%|██████████                               |  ETA: 8:37:25\u001b[39m\u001b[K"
     ]
    },
    {
     "name": "stderr",
     "output_type": "stream",
     "text": [
      "\r\u001b[32mProgress:  22%|██████████                               |  ETA: 8:34:45\u001b[39m\u001b[K"
     ]
    },
    {
     "name": "stderr",
     "output_type": "stream",
     "text": [
      "\r\u001b[32mProgress:  23%|██████████                               |  ETA: 8:32:01\u001b[39m\u001b[K"
     ]
    },
    {
     "name": "stderr",
     "output_type": "stream",
     "text": [
      "\r\u001b[32mProgress:  23%|██████████                               |  ETA: 8:29:25\u001b[39m\u001b[K"
     ]
    },
    {
     "name": "stderr",
     "output_type": "stream",
     "text": [
      "\r\u001b[32mProgress:  23%|██████████                               |  ETA: 8:28:14\u001b[39m\u001b[K"
     ]
    },
    {
     "name": "stderr",
     "output_type": "stream",
     "text": [
      "\r\u001b[32mProgress:  23%|██████████                               |  ETA: 8:26:44\u001b[39m\u001b[K"
     ]
    },
    {
     "name": "stderr",
     "output_type": "stream",
     "text": [
      "\r\u001b[32mProgress:  24%|██████████                               |  ETA: 8:25:52\u001b[39m\u001b[K"
     ]
    },
    {
     "name": "stderr",
     "output_type": "stream",
     "text": [
      "\r\u001b[32mProgress:  24%|██████████                               |  ETA: 8:24:40\u001b[39m\u001b[K"
     ]
    },
    {
     "name": "stderr",
     "output_type": "stream",
     "text": [
      "\r\u001b[32mProgress:  24%|██████████                               |  ETA: 8:23:47\u001b[39m\u001b[K"
     ]
    },
    {
     "name": "stderr",
     "output_type": "stream",
     "text": [
      "\r\u001b[32mProgress:  24%|██████████                               |  ETA: 8:22:51\u001b[39m\u001b[K"
     ]
    },
    {
     "name": "stderr",
     "output_type": "stream",
     "text": [
      "\r\u001b[32mProgress:  24%|███████████                              |  ETA: 8:20:13\u001b[39m\u001b[K"
     ]
    },
    {
     "name": "stderr",
     "output_type": "stream",
     "text": [
      "\r\u001b[32mProgress:  25%|███████████                              |  ETA: 8:17:15\u001b[39m\u001b[K"
     ]
    },
    {
     "name": "stderr",
     "output_type": "stream",
     "text": [
      "\r\u001b[32mProgress:  25%|███████████                              |  ETA: 8:14:19\u001b[39m\u001b[K"
     ]
    },
    {
     "name": "stderr",
     "output_type": "stream",
     "text": [
      "\r\u001b[32mProgress:  25%|███████████                              |  ETA: 8:11:28\u001b[39m\u001b[K"
     ]
    },
    {
     "name": "stderr",
     "output_type": "stream",
     "text": [
      "\r\u001b[32mProgress:  25%|███████████                              |  ETA: 8:08:56\u001b[39m\u001b[K"
     ]
    },
    {
     "name": "stderr",
     "output_type": "stream",
     "text": [
      "\r\u001b[32mProgress:  26%|███████████                              |  ETA: 8:06:48\u001b[39m\u001b[K"
     ]
    },
    {
     "name": "stderr",
     "output_type": "stream",
     "text": [
      "\r\u001b[32mProgress:  26%|███████████                              |  ETA: 8:05:45\u001b[39m\u001b[K"
     ]
    },
    {
     "name": "stderr",
     "output_type": "stream",
     "text": [
      "\r\u001b[32mProgress:  26%|███████████                              |  ETA: 8:03:35\u001b[39m\u001b[K"
     ]
    },
    {
     "name": "stderr",
     "output_type": "stream",
     "text": [
      "\r\u001b[32mProgress:  26%|███████████                              |  ETA: 8:00:50\u001b[39m\u001b[K"
     ]
    },
    {
     "name": "stderr",
     "output_type": "stream",
     "text": [
      "\r\u001b[32mProgress:  26%|███████████                              |  ETA: 7:58:20\u001b[39m\u001b[K"
     ]
    },
    {
     "name": "stderr",
     "output_type": "stream",
     "text": [
      "\r\u001b[32mProgress:  27%|███████████                              |  ETA: 7:55:28\u001b[39m\u001b[K"
     ]
    },
    {
     "name": "stderr",
     "output_type": "stream",
     "text": [
      "\r\u001b[32mProgress:  27%|████████████                             |  ETA: 7:52:41\u001b[39m\u001b[K"
     ]
    },
    {
     "name": "stderr",
     "output_type": "stream",
     "text": [
      "\r\u001b[32mProgress:  27%|████████████                             |  ETA: 7:49:54\u001b[39m\u001b[K"
     ]
    },
    {
     "name": "stderr",
     "output_type": "stream",
     "text": [
      "\r\u001b[32mProgress:  27%|████████████                             |  ETA: 7:47:26\u001b[39m\u001b[K"
     ]
    },
    {
     "name": "stderr",
     "output_type": "stream",
     "text": [
      "\r\u001b[32mProgress:  28%|████████████                             |  ETA: 7:45:56\u001b[39m\u001b[K"
     ]
    },
    {
     "name": "stderr",
     "output_type": "stream",
     "text": [
      "\r\u001b[32mProgress:  28%|████████████                             |  ETA: 7:44:10\u001b[39m\u001b[K"
     ]
    },
    {
     "name": "stderr",
     "output_type": "stream",
     "text": [
      "\r\u001b[32mProgress:  28%|████████████                             |  ETA: 7:42:21\u001b[39m\u001b[K"
     ]
    },
    {
     "name": "stderr",
     "output_type": "stream",
     "text": [
      "\r\u001b[32mProgress:  28%|████████████                             |  ETA: 7:40:25\u001b[39m\u001b[K"
     ]
    },
    {
     "name": "stderr",
     "output_type": "stream",
     "text": [
      "\r\u001b[32mProgress:  28%|████████████                             |  ETA: 7:37:55\u001b[39m\u001b[K"
     ]
    },
    {
     "name": "stderr",
     "output_type": "stream",
     "text": [
      "\r\u001b[32mProgress:  29%|████████████                             |  ETA: 7:35:30\u001b[39m\u001b[K"
     ]
    },
    {
     "name": "stderr",
     "output_type": "stream",
     "text": [
      "\r\u001b[32mProgress:  29%|████████████                             |  ETA: 7:32:59\u001b[39m\u001b[K"
     ]
    },
    {
     "name": "stderr",
     "output_type": "stream",
     "text": [
      "\r\u001b[32mProgress:  29%|████████████                             |  ETA: 7:31:26\u001b[39m\u001b[K"
     ]
    },
    {
     "name": "stderr",
     "output_type": "stream",
     "text": [
      "\r\u001b[32mProgress:  29%|█████████████                            |  ETA: 7:28:48\u001b[39m\u001b[K"
     ]
    },
    {
     "name": "stderr",
     "output_type": "stream",
     "text": [
      "\r\u001b[32mProgress:  30%|█████████████                            |  ETA: 7:26:24\u001b[39m\u001b[K"
     ]
    },
    {
     "name": "stderr",
     "output_type": "stream",
     "text": [
      "\r\u001b[32mProgress:  30%|█████████████                            |  ETA: 7:23:39\u001b[39m\u001b[K"
     ]
    },
    {
     "name": "stderr",
     "output_type": "stream",
     "text": [
      "\r\u001b[32mProgress:  30%|█████████████                            |  ETA: 7:21:02\u001b[39m\u001b[K"
     ]
    },
    {
     "name": "stderr",
     "output_type": "stream",
     "text": [
      "\r\u001b[32mProgress:  30%|█████████████                            |  ETA: 7:18:32\u001b[39m\u001b[K"
     ]
    },
    {
     "name": "stderr",
     "output_type": "stream",
     "text": [
      "\r\u001b[32mProgress:  30%|█████████████                            |  ETA: 7:15:56\u001b[39m\u001b[K"
     ]
    },
    {
     "name": "stderr",
     "output_type": "stream",
     "text": [
      "\r\u001b[32mProgress:  31%|█████████████                            |  ETA: 7:13:25\u001b[39m\u001b[K"
     ]
    },
    {
     "name": "stderr",
     "output_type": "stream",
     "text": [
      "\r\u001b[32mProgress:  31%|█████████████                            |  ETA: 7:10:29\u001b[39m\u001b[K"
     ]
    },
    {
     "name": "stderr",
     "output_type": "stream",
     "text": [
      "\r\u001b[32mProgress:  31%|█████████████                            |  ETA: 7:07:57\u001b[39m\u001b[K"
     ]
    },
    {
     "name": "stderr",
     "output_type": "stream",
     "text": [
      "\r\u001b[32mProgress:  31%|█████████████                            |  ETA: 7:05:14\u001b[39m\u001b[K"
     ]
    },
    {
     "name": "stderr",
     "output_type": "stream",
     "text": [
      "\r\u001b[32mProgress:  32%|█████████████                            |  ETA: 7:02:47\u001b[39m\u001b[K"
     ]
    },
    {
     "name": "stderr",
     "output_type": "stream",
     "text": [
      "\r\u001b[32mProgress:  32%|██████████████                           |  ETA: 7:00:49\u001b[39m\u001b[K"
     ]
    },
    {
     "name": "stderr",
     "output_type": "stream",
     "text": [
      "\r\u001b[32mProgress:  32%|██████████████                           |  ETA: 6:59:12\u001b[39m\u001b[K"
     ]
    },
    {
     "name": "stderr",
     "output_type": "stream",
     "text": [
      "\r\u001b[32mProgress:  32%|██████████████                           |  ETA: 6:57:53\u001b[39m\u001b[K"
     ]
    },
    {
     "name": "stderr",
     "output_type": "stream",
     "text": [
      "\r\u001b[32mProgress:  32%|██████████████                           |  ETA: 6:56:01\u001b[39m\u001b[K"
     ]
    },
    {
     "name": "stderr",
     "output_type": "stream",
     "text": [
      "\r\u001b[32mProgress:  33%|██████████████                           |  ETA: 6:54:27\u001b[39m\u001b[K"
     ]
    },
    {
     "name": "stderr",
     "output_type": "stream",
     "text": [
      "\r\u001b[32mProgress:  33%|██████████████                           |  ETA: 6:52:53\u001b[39m\u001b[K"
     ]
    },
    {
     "name": "stderr",
     "output_type": "stream",
     "text": [
      "\r\u001b[32mProgress:  33%|██████████████                           |  ETA: 6:51:17\u001b[39m\u001b[K"
     ]
    },
    {
     "name": "stderr",
     "output_type": "stream",
     "text": [
      "\r\u001b[32mProgress:  33%|██████████████                           |  ETA: 6:49:41\u001b[39m\u001b[K"
     ]
    },
    {
     "name": "stderr",
     "output_type": "stream",
     "text": [
      "\r\u001b[32mProgress:  34%|██████████████                           |  ETA: 6:48:23\u001b[39m\u001b[K"
     ]
    },
    {
     "name": "stderr",
     "output_type": "stream",
     "text": [
      "\r\u001b[32mProgress:  34%|██████████████                           |  ETA: 6:46:59\u001b[39m\u001b[K"
     ]
    },
    {
     "name": "stderr",
     "output_type": "stream",
     "text": [
      "\r\u001b[32mProgress:  34%|██████████████                           |  ETA: 6:45:39\u001b[39m\u001b[K"
     ]
    },
    {
     "name": "stderr",
     "output_type": "stream",
     "text": [
      "\r\u001b[32mProgress:  34%|███████████████                          |  ETA: 6:44:45\u001b[39m\u001b[K"
     ]
    },
    {
     "name": "stderr",
     "output_type": "stream",
     "text": [
      "\r\u001b[32mProgress:  34%|███████████████                          |  ETA: 6:43:37\u001b[39m\u001b[K"
     ]
    },
    {
     "name": "stderr",
     "output_type": "stream",
     "text": [
      "\r\u001b[32mProgress:  35%|███████████████                          |  ETA: 6:42:31\u001b[39m\u001b[K"
     ]
    },
    {
     "name": "stderr",
     "output_type": "stream",
     "text": [
      "\r\u001b[32mProgress:  35%|███████████████                          |  ETA: 6:41:39\u001b[39m\u001b[K"
     ]
    },
    {
     "name": "stderr",
     "output_type": "stream",
     "text": [
      "\r\u001b[32mProgress:  35%|███████████████                          |  ETA: 6:41:45\u001b[39m\u001b[K"
     ]
    },
    {
     "name": "stderr",
     "output_type": "stream",
     "text": [
      "\r\u001b[32mProgress:  35%|███████████████                          |  ETA: 6:42:09\u001b[39m\u001b[K"
     ]
    },
    {
     "name": "stderr",
     "output_type": "stream",
     "text": [
      "\r\u001b[32mProgress:  36%|███████████████                          |  ETA: 6:40:50\u001b[39m\u001b[K"
     ]
    },
    {
     "name": "stderr",
     "output_type": "stream",
     "text": [
      "\r\u001b[32mProgress:  36%|███████████████                          |  ETA: 6:38:50\u001b[39m\u001b[K"
     ]
    },
    {
     "name": "stderr",
     "output_type": "stream",
     "text": [
      "\r\u001b[32mProgress:  36%|███████████████                          |  ETA: 6:36:59\u001b[39m\u001b[K"
     ]
    },
    {
     "name": "stderr",
     "output_type": "stream",
     "text": [
      "\r\u001b[32mProgress:  36%|███████████████                          |  ETA: 6:34:59\u001b[39m\u001b[K"
     ]
    },
    {
     "name": "stderr",
     "output_type": "stream",
     "text": [
      "\r\u001b[32mProgress:  36%|███████████████                          |  ETA: 6:33:01\u001b[39m\u001b[K"
     ]
    },
    {
     "name": "stderr",
     "output_type": "stream",
     "text": [
      "\r\u001b[32mProgress:  37%|████████████████                         |  ETA: 6:30:55\u001b[39m\u001b[K"
     ]
    },
    {
     "name": "stderr",
     "output_type": "stream",
     "text": [
      "\r\u001b[32mProgress:  37%|████████████████                         |  ETA: 6:28:56\u001b[39m\u001b[K"
     ]
    },
    {
     "name": "stderr",
     "output_type": "stream",
     "text": [
      "\r\u001b[32mProgress:  37%|████████████████                         |  ETA: 6:26:54\u001b[39m\u001b[K"
     ]
    },
    {
     "name": "stderr",
     "output_type": "stream",
     "text": [
      "\r\u001b[32mProgress:  37%|████████████████                         |  ETA: 6:25:00\u001b[39m\u001b[K"
     ]
    },
    {
     "name": "stderr",
     "output_type": "stream",
     "text": [
      "\r\u001b[32mProgress:  38%|████████████████                         |  ETA: 6:23:01\u001b[39m\u001b[K"
     ]
    },
    {
     "name": "stderr",
     "output_type": "stream",
     "text": [
      "\r\u001b[32mProgress:  38%|████████████████                         |  ETA: 6:21:21\u001b[39m\u001b[K"
     ]
    },
    {
     "name": "stderr",
     "output_type": "stream",
     "text": [
      "\r\u001b[32mProgress:  38%|████████████████                         |  ETA: 6:19:34\u001b[39m\u001b[K"
     ]
    },
    {
     "name": "stderr",
     "output_type": "stream",
     "text": [
      "\r\u001b[32mProgress:  38%|████████████████                         |  ETA: 6:17:52\u001b[39m\u001b[K"
     ]
    },
    {
     "name": "stderr",
     "output_type": "stream",
     "text": [
      "\r\u001b[32mProgress:  38%|████████████████                         |  ETA: 6:16:04\u001b[39m\u001b[K"
     ]
    },
    {
     "name": "stderr",
     "output_type": "stream",
     "text": [
      "\r\u001b[32mProgress:  39%|████████████████                         |  ETA: 6:14:16\u001b[39m\u001b[K"
     ]
    },
    {
     "name": "stderr",
     "output_type": "stream",
     "text": [
      "\r\u001b[32mProgress:  39%|████████████████                         |  ETA: 6:12:38\u001b[39m\u001b[K"
     ]
    },
    {
     "name": "stderr",
     "output_type": "stream",
     "text": [
      "\r\u001b[32mProgress:  39%|█████████████████                        |  ETA: 6:10:56\u001b[39m\u001b[K"
     ]
    },
    {
     "name": "stderr",
     "output_type": "stream",
     "text": [
      "\r\u001b[32mProgress:  39%|█████████████████                        |  ETA: 6:09:19\u001b[39m\u001b[K"
     ]
    },
    {
     "name": "stderr",
     "output_type": "stream",
     "text": [
      "\r\u001b[32mProgress:  40%|█████████████████                        |  ETA: 6:07:40\u001b[39m\u001b[K"
     ]
    },
    {
     "name": "stderr",
     "output_type": "stream",
     "text": [
      "\r\u001b[32mProgress:  40%|█████████████████                        |  ETA: 6:06:02\u001b[39m\u001b[K"
     ]
    },
    {
     "name": "stderr",
     "output_type": "stream",
     "text": [
      "\r\u001b[32mProgress:  40%|█████████████████                        |  ETA: 6:04:26\u001b[39m\u001b[K"
     ]
    },
    {
     "name": "stderr",
     "output_type": "stream",
     "text": [
      "\r\u001b[32mProgress:  40%|█████████████████                        |  ETA: 6:02:42\u001b[39m\u001b[K"
     ]
    },
    {
     "name": "stderr",
     "output_type": "stream",
     "text": [
      "\r\u001b[32mProgress:  40%|█████████████████                        |  ETA: 6:00:53\u001b[39m\u001b[K"
     ]
    },
    {
     "name": "stderr",
     "output_type": "stream",
     "text": [
      "\r\u001b[32mProgress:  41%|█████████████████                        |  ETA: 5:58:58\u001b[39m\u001b[K"
     ]
    },
    {
     "name": "stderr",
     "output_type": "stream",
     "text": [
      "\r\u001b[32mProgress:  41%|█████████████████                        |  ETA: 5:57:06\u001b[39m\u001b[K"
     ]
    },
    {
     "name": "stderr",
     "output_type": "stream",
     "text": [
      "\r\u001b[32mProgress:  41%|█████████████████                        |  ETA: 5:55:20\u001b[39m\u001b[K"
     ]
    },
    {
     "name": "stderr",
     "output_type": "stream",
     "text": [
      "\r\u001b[32mProgress:  41%|█████████████████                        |  ETA: 5:53:30\u001b[39m\u001b[K"
     ]
    },
    {
     "name": "stderr",
     "output_type": "stream",
     "text": [
      "\r\u001b[32mProgress:  42%|██████████████████                       |  ETA: 5:51:44\u001b[39m\u001b[K"
     ]
    },
    {
     "name": "stderr",
     "output_type": "stream",
     "text": [
      "\r\u001b[32mProgress:  42%|██████████████████                       |  ETA: 5:50:03\u001b[39m\u001b[K"
     ]
    },
    {
     "name": "stderr",
     "output_type": "stream",
     "text": [
      "\r\u001b[32mProgress:  42%|██████████████████                       |  ETA: 5:48:15\u001b[39m\u001b[K"
     ]
    },
    {
     "name": "stderr",
     "output_type": "stream",
     "text": [
      "\r\u001b[32mProgress:  42%|██████████████████                       |  ETA: 5:46:20\u001b[39m\u001b[K"
     ]
    },
    {
     "name": "stderr",
     "output_type": "stream",
     "text": [
      "\r\u001b[32mProgress:  42%|██████████████████                       |  ETA: 5:44:36\u001b[39m\u001b[K"
     ]
    },
    {
     "name": "stderr",
     "output_type": "stream",
     "text": [
      "\r\u001b[32mProgress:  43%|██████████████████                       |  ETA: 5:42:46\u001b[39m\u001b[K"
     ]
    },
    {
     "name": "stderr",
     "output_type": "stream",
     "text": [
      "\r\u001b[32mProgress:  43%|██████████████████                       |  ETA: 5:41:14\u001b[39m\u001b[K"
     ]
    },
    {
     "name": "stderr",
     "output_type": "stream",
     "text": [
      "\r\u001b[32mProgress:  43%|██████████████████                       |  ETA: 5:39:52\u001b[39m\u001b[K"
     ]
    },
    {
     "name": "stderr",
     "output_type": "stream",
     "text": [
      "\r\u001b[32mProgress:  43%|██████████████████                       |  ETA: 5:38:26\u001b[39m\u001b[K"
     ]
    },
    {
     "name": "stderr",
     "output_type": "stream",
     "text": [
      "\r\u001b[32mProgress:  44%|██████████████████                       |  ETA: 5:37:00\u001b[39m\u001b[K"
     ]
    },
    {
     "name": "stderr",
     "output_type": "stream",
     "text": [
      "\r\u001b[32mProgress:  44%|██████████████████                       |  ETA: 5:35:20\u001b[39m\u001b[K"
     ]
    },
    {
     "name": "stderr",
     "output_type": "stream",
     "text": [
      "\r\u001b[32mProgress:  44%|███████████████████                      |  ETA: 5:33:48\u001b[39m\u001b[K"
     ]
    },
    {
     "name": "stderr",
     "output_type": "stream",
     "text": [
      "\r\u001b[32mProgress:  44%|███████████████████                      |  ETA: 5:32:29\u001b[39m\u001b[K"
     ]
    },
    {
     "name": "stderr",
     "output_type": "stream",
     "text": [
      "\r\u001b[32mProgress:  44%|███████████████████                      |  ETA: 5:31:02\u001b[39m\u001b[K"
     ]
    },
    {
     "name": "stderr",
     "output_type": "stream",
     "text": [
      "\r\u001b[32mProgress:  45%|███████████████████                      |  ETA: 5:29:48\u001b[39m\u001b[K"
     ]
    },
    {
     "name": "stderr",
     "output_type": "stream",
     "text": [
      "\r\u001b[32mProgress:  45%|███████████████████                      |  ETA: 5:28:29\u001b[39m\u001b[K"
     ]
    },
    {
     "name": "stderr",
     "output_type": "stream",
     "text": [
      "\r\u001b[32mProgress:  45%|███████████████████                      |  ETA: 5:27:24\u001b[39m\u001b[K"
     ]
    },
    {
     "name": "stderr",
     "output_type": "stream",
     "text": [
      "\r\u001b[32mProgress:  45%|███████████████████                      |  ETA: 5:26:21\u001b[39m\u001b[K"
     ]
    },
    {
     "name": "stderr",
     "output_type": "stream",
     "text": [
      "\r\u001b[32mProgress:  46%|███████████████████                      |  ETA: 5:25:13\u001b[39m\u001b[K"
     ]
    },
    {
     "name": "stderr",
     "output_type": "stream",
     "text": [
      "\r\u001b[32mProgress:  46%|███████████████████                      |  ETA: 5:23:49\u001b[39m\u001b[K"
     ]
    },
    {
     "name": "stderr",
     "output_type": "stream",
     "text": [
      "\r\u001b[32mProgress:  46%|███████████████████                      |  ETA: 5:22:28\u001b[39m\u001b[K"
     ]
    },
    {
     "name": "stderr",
     "output_type": "stream",
     "text": [
      "\r\u001b[32mProgress:  46%|███████████████████                      |  ETA: 5:21:13\u001b[39m\u001b[K"
     ]
    },
    {
     "name": "stderr",
     "output_type": "stream",
     "text": [
      "\r\u001b[32mProgress:  46%|████████████████████                     |  ETA: 5:20:09\u001b[39m\u001b[K"
     ]
    },
    {
     "name": "stderr",
     "output_type": "stream",
     "text": [
      "\r\u001b[32mProgress:  47%|████████████████████                     |  ETA: 5:19:08\u001b[39m\u001b[K"
     ]
    },
    {
     "name": "stderr",
     "output_type": "stream",
     "text": [
      "\r\u001b[32mProgress:  47%|████████████████████                     |  ETA: 5:18:05\u001b[39m\u001b[K"
     ]
    },
    {
     "name": "stderr",
     "output_type": "stream",
     "text": [
      "\r\u001b[32mProgress:  47%|████████████████████                     |  ETA: 5:16:50\u001b[39m\u001b[K"
     ]
    },
    {
     "name": "stderr",
     "output_type": "stream",
     "text": [
      "\r\u001b[32mProgress:  47%|████████████████████                     |  ETA: 5:15:31\u001b[39m\u001b[K"
     ]
    },
    {
     "name": "stderr",
     "output_type": "stream",
     "text": [
      "\r\u001b[32mProgress:  48%|████████████████████                     |  ETA: 5:14:29\u001b[39m\u001b[K"
     ]
    },
    {
     "name": "stderr",
     "output_type": "stream",
     "text": [
      "\r\u001b[32mProgress:  48%|████████████████████                     |  ETA: 5:13:16\u001b[39m\u001b[K"
     ]
    },
    {
     "name": "stderr",
     "output_type": "stream",
     "text": [
      "\r\u001b[32mProgress:  48%|████████████████████                     |  ETA: 5:12:04\u001b[39m\u001b[K"
     ]
    },
    {
     "name": "stderr",
     "output_type": "stream",
     "text": [
      "\r\u001b[32mProgress:  48%|████████████████████                     |  ETA: 5:10:53\u001b[39m\u001b[K"
     ]
    },
    {
     "name": "stderr",
     "output_type": "stream",
     "text": [
      "\r\u001b[32mProgress:  48%|████████████████████                     |  ETA: 5:09:41\u001b[39m\u001b[K"
     ]
    },
    {
     "name": "stderr",
     "output_type": "stream",
     "text": [
      "\r\u001b[32mProgress:  49%|████████████████████                     |  ETA: 5:08:38\u001b[39m\u001b[K"
     ]
    },
    {
     "name": "stderr",
     "output_type": "stream",
     "text": [
      "\r\u001b[32mProgress:  49%|█████████████████████                    |  ETA: 5:07:30\u001b[39m\u001b[K"
     ]
    },
    {
     "name": "stderr",
     "output_type": "stream",
     "text": [
      "\r\u001b[32mProgress:  49%|█████████████████████                    |  ETA: 5:06:17\u001b[39m\u001b[K"
     ]
    },
    {
     "name": "stderr",
     "output_type": "stream",
     "text": [
      "\r\u001b[32mProgress:  49%|█████████████████████                    |  ETA: 5:05:14\u001b[39m\u001b[K"
     ]
    },
    {
     "name": "stderr",
     "output_type": "stream",
     "text": [
      "\r\u001b[32mProgress:  50%|█████████████████████                    |  ETA: 5:03:59\u001b[39m\u001b[K"
     ]
    },
    {
     "name": "stderr",
     "output_type": "stream",
     "text": [
      "\r\u001b[32mProgress:  50%|█████████████████████                    |  ETA: 5:02:56\u001b[39m\u001b[K"
     ]
    },
    {
     "name": "stderr",
     "output_type": "stream",
     "text": [
      "\r\u001b[32mProgress:  50%|█████████████████████                    |  ETA: 5:01:34\u001b[39m\u001b[K"
     ]
    },
    {
     "name": "stderr",
     "output_type": "stream",
     "text": [
      "\r\u001b[32mProgress:  50%|█████████████████████                    |  ETA: 5:00:21\u001b[39m\u001b[K"
     ]
    },
    {
     "name": "stderr",
     "output_type": "stream",
     "text": [
      "\r\u001b[32mProgress:  50%|█████████████████████                    |  ETA: 4:59:01\u001b[39m\u001b[K"
     ]
    },
    {
     "name": "stderr",
     "output_type": "stream",
     "text": [
      "\r\u001b[32mProgress:  51%|█████████████████████                    |  ETA: 4:57:50\u001b[39m\u001b[K"
     ]
    },
    {
     "name": "stderr",
     "output_type": "stream",
     "text": [
      "\r\u001b[32mProgress:  51%|█████████████████████                    |  ETA: 4:57:02\u001b[39m\u001b[K"
     ]
    },
    {
     "name": "stderr",
     "output_type": "stream",
     "text": [
      "\r\u001b[32mProgress:  51%|█████████████████████                    |  ETA: 4:55:36\u001b[39m\u001b[K"
     ]
    },
    {
     "name": "stderr",
     "output_type": "stream",
     "text": [
      "\r\u001b[32mProgress:  51%|██████████████████████                   |  ETA: 4:54:18\u001b[39m\u001b[K"
     ]
    },
    {
     "name": "stderr",
     "output_type": "stream",
     "text": [
      "\r\u001b[32mProgress:  52%|██████████████████████                   |  ETA: 4:52:56\u001b[39m\u001b[K"
     ]
    },
    {
     "name": "stderr",
     "output_type": "stream",
     "text": [
      "\r\u001b[32mProgress:  52%|██████████████████████                   |  ETA: 4:51:44\u001b[39m\u001b[K"
     ]
    },
    {
     "name": "stderr",
     "output_type": "stream",
     "text": [
      "\r\u001b[32mProgress:  52%|██████████████████████                   |  ETA: 4:50:24\u001b[39m\u001b[K"
     ]
    },
    {
     "name": "stderr",
     "output_type": "stream",
     "text": [
      "\r\u001b[32mProgress:  52%|██████████████████████                   |  ETA: 4:49:05\u001b[39m\u001b[K"
     ]
    },
    {
     "name": "stderr",
     "output_type": "stream",
     "text": [
      "\r\u001b[32mProgress:  52%|██████████████████████                   |  ETA: 4:47:41\u001b[39m\u001b[K"
     ]
    },
    {
     "name": "stderr",
     "output_type": "stream",
     "text": [
      "\r\u001b[32mProgress:  53%|██████████████████████                   |  ETA: 4:46:15\u001b[39m\u001b[K"
     ]
    },
    {
     "name": "stderr",
     "output_type": "stream",
     "text": [
      "\r\u001b[32mProgress:  53%|██████████████████████                   |  ETA: 4:44:56\u001b[39m\u001b[K"
     ]
    },
    {
     "name": "stderr",
     "output_type": "stream",
     "text": [
      "\r\u001b[32mProgress:  53%|██████████████████████                   |  ETA: 4:43:39\u001b[39m\u001b[K"
     ]
    },
    {
     "name": "stderr",
     "output_type": "stream",
     "text": [
      "\r\u001b[32mProgress:  53%|██████████████████████                   |  ETA: 4:42:16\u001b[39m\u001b[K"
     ]
    },
    {
     "name": "stderr",
     "output_type": "stream",
     "text": [
      "\r\u001b[32mProgress:  54%|██████████████████████                   |  ETA: 4:41:01\u001b[39m\u001b[K"
     ]
    },
    {
     "name": "stderr",
     "output_type": "stream",
     "text": [
      "\r\u001b[32mProgress:  54%|███████████████████████                  |  ETA: 4:39:44\u001b[39m\u001b[K"
     ]
    },
    {
     "name": "stderr",
     "output_type": "stream",
     "text": [
      "\r\u001b[32mProgress:  54%|███████████████████████                  |  ETA: 4:38:23\u001b[39m\u001b[K"
     ]
    },
    {
     "name": "stderr",
     "output_type": "stream",
     "text": [
      "\r\u001b[32mProgress:  54%|███████████████████████                  |  ETA: 4:37:05\u001b[39m\u001b[K"
     ]
    },
    {
     "name": "stderr",
     "output_type": "stream",
     "text": [
      "\r\u001b[32mProgress:  54%|███████████████████████                  |  ETA: 4:35:45\u001b[39m\u001b[K"
     ]
    },
    {
     "name": "stderr",
     "output_type": "stream",
     "text": [
      "\r\u001b[32mProgress:  55%|███████████████████████                  |  ETA: 4:34:24\u001b[39m\u001b[K"
     ]
    },
    {
     "name": "stderr",
     "output_type": "stream",
     "text": [
      "\r\u001b[32mProgress:  55%|███████████████████████                  |  ETA: 4:32:58\u001b[39m\u001b[K"
     ]
    },
    {
     "name": "stderr",
     "output_type": "stream",
     "text": [
      "\r\u001b[32mProgress:  55%|███████████████████████                  |  ETA: 4:31:36\u001b[39m\u001b[K"
     ]
    },
    {
     "name": "stderr",
     "output_type": "stream",
     "text": [
      "\r\u001b[32mProgress:  55%|███████████████████████                  |  ETA: 4:30:14\u001b[39m\u001b[K"
     ]
    },
    {
     "name": "stderr",
     "output_type": "stream",
     "text": [
      "\r\u001b[32mProgress:  56%|███████████████████████                  |  ETA: 4:29:01\u001b[39m\u001b[K"
     ]
    },
    {
     "name": "stderr",
     "output_type": "stream",
     "text": [
      "\r\u001b[32mProgress:  56%|███████████████████████                  |  ETA: 4:27:54\u001b[39m\u001b[K"
     ]
    },
    {
     "name": "stderr",
     "output_type": "stream",
     "text": [
      "\r\u001b[32mProgress:  56%|███████████████████████                  |  ETA: 4:26:43\u001b[39m\u001b[K"
     ]
    },
    {
     "name": "stderr",
     "output_type": "stream",
     "text": [
      "\r\u001b[32mProgress:  56%|████████████████████████                 |  ETA: 4:25:30\u001b[39m\u001b[K"
     ]
    },
    {
     "name": "stderr",
     "output_type": "stream",
     "text": [
      "\r\u001b[32mProgress:  56%|████████████████████████                 |  ETA: 4:24:14\u001b[39m\u001b[K"
     ]
    },
    {
     "name": "stderr",
     "output_type": "stream",
     "text": [
      "\r\u001b[32mProgress:  57%|████████████████████████                 |  ETA: 4:23:00\u001b[39m\u001b[K"
     ]
    },
    {
     "name": "stderr",
     "output_type": "stream",
     "text": [
      "\r\u001b[32mProgress:  57%|████████████████████████                 |  ETA: 4:21:54\u001b[39m\u001b[K"
     ]
    },
    {
     "name": "stderr",
     "output_type": "stream",
     "text": [
      "\r\u001b[32mProgress:  57%|████████████████████████                 |  ETA: 4:20:47\u001b[39m\u001b[K"
     ]
    },
    {
     "name": "stderr",
     "output_type": "stream",
     "text": [
      "\r\u001b[32mProgress:  57%|████████████████████████                 |  ETA: 4:19:34\u001b[39m\u001b[K"
     ]
    },
    {
     "name": "stderr",
     "output_type": "stream",
     "text": [
      "\r\u001b[32mProgress:  58%|████████████████████████                 |  ETA: 4:18:21\u001b[39m\u001b[K"
     ]
    },
    {
     "name": "stderr",
     "output_type": "stream",
     "text": [
      "\r\u001b[32mProgress:  58%|████████████████████████                 |  ETA: 4:17:06\u001b[39m\u001b[K"
     ]
    },
    {
     "name": "stderr",
     "output_type": "stream",
     "text": [
      "\r\u001b[32mProgress:  58%|████████████████████████                 |  ETA: 4:15:50\u001b[39m\u001b[K"
     ]
    },
    {
     "name": "stderr",
     "output_type": "stream",
     "text": [
      "\r\u001b[32mProgress:  58%|████████████████████████                 |  ETA: 4:14:35\u001b[39m\u001b[K"
     ]
    },
    {
     "name": "stderr",
     "output_type": "stream",
     "text": [
      "\r\u001b[32mProgress:  58%|████████████████████████                 |  ETA: 4:13:24\u001b[39m\u001b[K"
     ]
    },
    {
     "name": "stderr",
     "output_type": "stream",
     "text": [
      "\r\u001b[32mProgress:  59%|█████████████████████████                |  ETA: 4:12:19\u001b[39m\u001b[K"
     ]
    },
    {
     "name": "stderr",
     "output_type": "stream",
     "text": [
      "\r\u001b[32mProgress:  59%|█████████████████████████                |  ETA: 4:11:06\u001b[39m\u001b[K"
     ]
    },
    {
     "name": "stderr",
     "output_type": "stream",
     "text": [
      "\r\u001b[32mProgress:  59%|█████████████████████████                |  ETA: 4:09:56\u001b[39m\u001b[K"
     ]
    },
    {
     "name": "stderr",
     "output_type": "stream",
     "text": [
      "\r\u001b[32mProgress:  59%|█████████████████████████                |  ETA: 4:08:42\u001b[39m\u001b[K"
     ]
    },
    {
     "name": "stderr",
     "output_type": "stream",
     "text": [
      "\r\u001b[32mProgress:  60%|█████████████████████████                |  ETA: 4:07:37\u001b[39m\u001b[K"
     ]
    },
    {
     "name": "stderr",
     "output_type": "stream",
     "text": [
      "\r\u001b[32mProgress:  60%|█████████████████████████                |  ETA: 4:07:12\u001b[39m\u001b[K"
     ]
    },
    {
     "name": "stderr",
     "output_type": "stream",
     "text": [
      "\r\u001b[32mProgress:  60%|█████████████████████████                |  ETA: 4:06:46\u001b[39m\u001b[K"
     ]
    },
    {
     "name": "stderr",
     "output_type": "stream",
     "text": [
      "\r\u001b[32mProgress:  60%|█████████████████████████                |  ETA: 4:06:17\u001b[39m\u001b[K"
     ]
    },
    {
     "name": "stderr",
     "output_type": "stream",
     "text": [
      "\r\u001b[32mProgress:  60%|█████████████████████████                |  ETA: 4:05:55\u001b[39m\u001b[K"
     ]
    },
    {
     "name": "stderr",
     "output_type": "stream",
     "text": [
      "\r\u001b[32mProgress:  61%|█████████████████████████                |  ETA: 4:05:23\u001b[39m\u001b[K"
     ]
    },
    {
     "name": "stderr",
     "output_type": "stream",
     "text": [
      "\r\u001b[32mProgress:  61%|█████████████████████████                |  ETA: 4:04:59\u001b[39m\u001b[K"
     ]
    },
    {
     "name": "stderr",
     "output_type": "stream",
     "text": [
      "\r\u001b[32mProgress:  61%|██████████████████████████               |  ETA: 4:04:14\u001b[39m\u001b[K"
     ]
    },
    {
     "name": "stderr",
     "output_type": "stream",
     "text": [
      "\r\u001b[32mProgress:  61%|██████████████████████████               |  ETA: 4:03:42\u001b[39m\u001b[K"
     ]
    },
    {
     "name": "stderr",
     "output_type": "stream",
     "text": [
      "\r\u001b[32mProgress:  62%|██████████████████████████               |  ETA: 4:03:09\u001b[39m\u001b[K"
     ]
    },
    {
     "name": "stderr",
     "output_type": "stream",
     "text": [
      "\r\u001b[32mProgress:  62%|██████████████████████████               |  ETA: 4:02:32\u001b[39m\u001b[K"
     ]
    },
    {
     "name": "stderr",
     "output_type": "stream",
     "text": [
      "\r\u001b[32mProgress:  62%|██████████████████████████               |  ETA: 4:01:49\u001b[39m\u001b[K"
     ]
    },
    {
     "name": "stderr",
     "output_type": "stream",
     "text": [
      "\r\u001b[32mProgress:  62%|██████████████████████████               |  ETA: 4:01:15\u001b[39m\u001b[K"
     ]
    },
    {
     "name": "stderr",
     "output_type": "stream",
     "text": [
      "\r\u001b[32mProgress:  62%|██████████████████████████               |  ETA: 4:00:36\u001b[39m\u001b[K"
     ]
    },
    {
     "name": "stderr",
     "output_type": "stream",
     "text": [
      "\r\u001b[32mProgress:  63%|██████████████████████████               |  ETA: 4:00:09\u001b[39m\u001b[K"
     ]
    },
    {
     "name": "stderr",
     "output_type": "stream",
     "text": [
      "\r\u001b[32mProgress:  63%|██████████████████████████               |  ETA: 3:59:26\u001b[39m\u001b[K"
     ]
    },
    {
     "name": "stderr",
     "output_type": "stream",
     "text": [
      "\r\u001b[32mProgress:  63%|██████████████████████████               |  ETA: 3:58:52\u001b[39m\u001b[K"
     ]
    },
    {
     "name": "stderr",
     "output_type": "stream",
     "text": [
      "\r\u001b[32mProgress:  63%|██████████████████████████               |  ETA: 3:58:06\u001b[39m\u001b[K"
     ]
    },
    {
     "name": "stderr",
     "output_type": "stream",
     "text": [
      "\r\u001b[32mProgress:  64%|███████████████████████████              |  ETA: 3:56:30\u001b[39m"
     ]
    },
    {
     "name": "stderr",
     "output_type": "stream",
     "text": [
      "\u001b[K\r\u001b[32mProgress:  64%|███████████████████████████              |  ETA: 3:54:57\u001b[39m\u001b[K"
     ]
    },
    {
     "name": "stderr",
     "output_type": "stream",
     "text": [
      "\r\u001b[32mProgress:  64%|███████████████████████████              |  ETA: 3:53:24\u001b[39m\u001b[K"
     ]
    },
    {
     "name": "stderr",
     "output_type": "stream",
     "text": [
      "\r\u001b[32mProgress:  64%|███████████████████████████              |  ETA: 3:51:56\u001b[39m\u001b[K"
     ]
    },
    {
     "name": "stderr",
     "output_type": "stream",
     "text": [
      "\r\u001b[32mProgress:  64%|███████████████████████████              |  ETA: 3:50:25\u001b[39m\u001b[K"
     ]
    },
    {
     "name": "stderr",
     "output_type": "stream",
     "text": [
      "\r\u001b[32mProgress:  65%|███████████████████████████              |  ETA: 3:48:57\u001b[39m\u001b[K"
     ]
    },
    {
     "name": "stderr",
     "output_type": "stream",
     "text": [
      "\r\u001b[32mProgress:  65%|███████████████████████████              |  ETA: 3:47:31\u001b[39m\u001b[K"
     ]
    },
    {
     "name": "stderr",
     "output_type": "stream",
     "text": [
      "\r\u001b[32mProgress:  65%|███████████████████████████              |  ETA: 3:46:02\u001b[39m\u001b[K"
     ]
    },
    {
     "name": "stderr",
     "output_type": "stream",
     "text": [
      "\r\u001b[32mProgress:  65%|███████████████████████████              |  ETA: 3:44:31\u001b[39m\u001b[K"
     ]
    },
    {
     "name": "stderr",
     "output_type": "stream",
     "text": [
      "\r\u001b[32mProgress:  66%|███████████████████████████              |  ETA: 3:42:57\u001b[39m\u001b[K"
     ]
    },
    {
     "name": "stderr",
     "output_type": "stream",
     "text": [
      "\r\u001b[32mProgress:  66%|███████████████████████████              |  ETA: 3:41:45\u001b[39m\u001b[K"
     ]
    },
    {
     "name": "stderr",
     "output_type": "stream",
     "text": [
      "\r\u001b[32mProgress:  66%|████████████████████████████             |  ETA: 3:41:06\u001b[39m\u001b[K"
     ]
    },
    {
     "name": "stderr",
     "output_type": "stream",
     "text": [
      "\r\u001b[32mProgress:  66%|████████████████████████████             |  ETA: 3:40:28\u001b[39m\u001b[K"
     ]
    },
    {
     "name": "stderr",
     "output_type": "stream",
     "text": [
      "\r\u001b[32mProgress:  66%|████████████████████████████             |  ETA: 3:39:46\u001b[39m\u001b[K"
     ]
    },
    {
     "name": "stderr",
     "output_type": "stream",
     "text": [
      "\r\u001b[32mProgress:  67%|████████████████████████████             |  ETA: 3:38:52\u001b[39m\u001b[K"
     ]
    },
    {
     "name": "stderr",
     "output_type": "stream",
     "text": [
      "\r\u001b[32mProgress:  67%|████████████████████████████             |  ETA: 3:37:31\u001b[39m\u001b[K"
     ]
    },
    {
     "name": "stderr",
     "output_type": "stream",
     "text": [
      "\r\u001b[32mProgress:  67%|████████████████████████████             |  ETA: 3:36:06\u001b[39m\u001b[K"
     ]
    },
    {
     "name": "stderr",
     "output_type": "stream",
     "text": [
      "\r\u001b[32mProgress:  67%|████████████████████████████             |  ETA: 3:34:42\u001b[39m\u001b[K"
     ]
    },
    {
     "name": "stderr",
     "output_type": "stream",
     "text": [
      "\r\u001b[32mProgress:  68%|████████████████████████████             |  ETA: 3:33:16\u001b[39m\u001b[K"
     ]
    },
    {
     "name": "stderr",
     "output_type": "stream",
     "text": [
      "\r\u001b[32mProgress:  68%|████████████████████████████             |  ETA: 3:31:51\u001b[39m\u001b[K"
     ]
    },
    {
     "name": "stderr",
     "output_type": "stream",
     "text": [
      "\r\u001b[32mProgress:  68%|████████████████████████████             |  ETA: 3:30:21\u001b[39m\u001b[K"
     ]
    },
    {
     "name": "stderr",
     "output_type": "stream",
     "text": [
      "\r\u001b[32mProgress:  68%|████████████████████████████             |  ETA: 3:28:52\u001b[39m\u001b[K"
     ]
    },
    {
     "name": "stderr",
     "output_type": "stream",
     "text": [
      "\r\u001b[32mProgress:  68%|█████████████████████████████            |  ETA: 3:27:21\u001b[39m\u001b[K"
     ]
    },
    {
     "name": "stderr",
     "output_type": "stream",
     "text": [
      "\r\u001b[32mProgress:  69%|█████████████████████████████            |  ETA: 3:25:49\u001b[39m\u001b[K"
     ]
    },
    {
     "name": "stderr",
     "output_type": "stream",
     "text": [
      "\r\u001b[32mProgress:  69%|█████████████████████████████            |  ETA: 3:24:19\u001b[39m\u001b[K"
     ]
    },
    {
     "name": "stderr",
     "output_type": "stream",
     "text": [
      "\r\u001b[32mProgress:  69%|█████████████████████████████            |  ETA: 3:22:47\u001b[39m\u001b[K"
     ]
    },
    {
     "name": "stderr",
     "output_type": "stream",
     "text": [
      "\r\u001b[32mProgress:  69%|█████████████████████████████            |  ETA: 3:21:13\u001b[39m\u001b[K"
     ]
    },
    {
     "name": "stderr",
     "output_type": "stream",
     "text": [
      "\r\u001b[32mProgress:  70%|█████████████████████████████            |  ETA: 3:19:52\u001b[39m\u001b[K"
     ]
    },
    {
     "name": "stderr",
     "output_type": "stream",
     "text": [
      "\r\u001b[32mProgress:  70%|█████████████████████████████            |  ETA: 3:18:30\u001b[39m\u001b[K"
     ]
    },
    {
     "name": "stderr",
     "output_type": "stream",
     "text": [
      "\r\u001b[32mProgress:  70%|█████████████████████████████            |  ETA: 3:17:09\u001b[39m\u001b[K"
     ]
    },
    {
     "name": "stderr",
     "output_type": "stream",
     "text": [
      "\r\u001b[32mProgress:  70%|█████████████████████████████            |  ETA: 3:15:47\u001b[39m\u001b[K"
     ]
    },
    {
     "name": "stderr",
     "output_type": "stream",
     "text": [
      "\r\u001b[32mProgress:  70%|█████████████████████████████            |  ETA: 3:14:28\u001b[39m\u001b[K"
     ]
    },
    {
     "name": "stderr",
     "output_type": "stream",
     "text": [
      "\r\u001b[32mProgress:  71%|█████████████████████████████            |  ETA: 3:13:10\u001b[39m\u001b[K"
     ]
    },
    {
     "name": "stderr",
     "output_type": "stream",
     "text": [
      "\r\u001b[32mProgress:  71%|██████████████████████████████           |  ETA: 3:11:39\u001b[39m\u001b[K"
     ]
    },
    {
     "name": "stderr",
     "output_type": "stream",
     "text": [
      "\r\u001b[32mProgress:  71%|██████████████████████████████           |  ETA: 3:10:08\u001b[39m\u001b[K"
     ]
    },
    {
     "name": "stderr",
     "output_type": "stream",
     "text": [
      "\r\u001b[32mProgress:  71%|██████████████████████████████           |  ETA: 3:08:39\u001b[39m\u001b[K"
     ]
    },
    {
     "name": "stderr",
     "output_type": "stream",
     "text": [
      "\r\u001b[32mProgress:  72%|██████████████████████████████           |  ETA: 3:07:06\u001b[39m\u001b[K"
     ]
    },
    {
     "name": "stderr",
     "output_type": "stream",
     "text": [
      "\r\u001b[32mProgress:  72%|██████████████████████████████           |  ETA: 3:05:37\u001b[39m\u001b[K"
     ]
    },
    {
     "name": "stderr",
     "output_type": "stream",
     "text": [
      "\r\u001b[32mProgress:  72%|██████████████████████████████           |  ETA: 3:04:07\u001b[39m\u001b[K"
     ]
    },
    {
     "name": "stderr",
     "output_type": "stream",
     "text": [
      "\r\u001b[32mProgress:  72%|██████████████████████████████           |  ETA: 3:02:37\u001b[39m\u001b[K"
     ]
    },
    {
     "name": "stderr",
     "output_type": "stream",
     "text": [
      "\r\u001b[32mProgress:  72%|██████████████████████████████           |  ETA: 3:01:12\u001b[39m\u001b[K"
     ]
    },
    {
     "name": "stderr",
     "output_type": "stream",
     "text": [
      "\r\u001b[32mProgress:  73%|██████████████████████████████           |  ETA: 2:59:50\u001b[39m\u001b[K"
     ]
    },
    {
     "name": "stderr",
     "output_type": "stream",
     "text": [
      "\r\u001b[32mProgress:  73%|██████████████████████████████           |  ETA: 2:58:31\u001b[39m\u001b[K"
     ]
    },
    {
     "name": "stderr",
     "output_type": "stream",
     "text": [
      "\r\u001b[32mProgress:  73%|██████████████████████████████           |  ETA: 2:57:10\u001b[39m\u001b[K"
     ]
    },
    {
     "name": "stderr",
     "output_type": "stream",
     "text": [
      "\r\u001b[32mProgress:  73%|███████████████████████████████          |  ETA: 2:55:49\u001b[39m\u001b[K"
     ]
    },
    {
     "name": "stderr",
     "output_type": "stream",
     "text": [
      "\r\u001b[32mProgress:  74%|███████████████████████████████          |  ETA: 2:54:27\u001b[39m\u001b[K"
     ]
    },
    {
     "name": "stderr",
     "output_type": "stream",
     "text": [
      "\r\u001b[32mProgress:  74%|███████████████████████████████          |  ETA: 2:53:03\u001b[39m\u001b[K"
     ]
    },
    {
     "name": "stderr",
     "output_type": "stream",
     "text": [
      "\r\u001b[32mProgress:  74%|███████████████████████████████          |  ETA: 2:51:42\u001b[39m\u001b[K"
     ]
    },
    {
     "name": "stderr",
     "output_type": "stream",
     "text": [
      "\r\u001b[32mProgress:  74%|███████████████████████████████          |  ETA: 2:50:23\u001b[39m\u001b[K"
     ]
    },
    {
     "name": "stderr",
     "output_type": "stream",
     "text": [
      "\r\u001b[32mProgress:  74%|███████████████████████████████          |  ETA: 2:49:03\u001b[39m\u001b[K"
     ]
    },
    {
     "name": "stderr",
     "output_type": "stream",
     "text": [
      "\r\u001b[32mProgress:  75%|███████████████████████████████          |  ETA: 2:47:41\u001b[39m\u001b[K"
     ]
    },
    {
     "name": "stderr",
     "output_type": "stream",
     "text": [
      "\r\u001b[32mProgress:  75%|███████████████████████████████          |  ETA: 2:46:17\u001b[39m\u001b[K"
     ]
    },
    {
     "name": "stderr",
     "output_type": "stream",
     "text": [
      "\r\u001b[32mProgress:  75%|███████████████████████████████          |  ETA: 2:44:56\u001b[39m\u001b[K"
     ]
    },
    {
     "name": "stderr",
     "output_type": "stream",
     "text": [
      "\r\u001b[32mProgress:  75%|███████████████████████████████          |  ETA: 2:43:35\u001b[39m\u001b[K"
     ]
    },
    {
     "name": "stderr",
     "output_type": "stream",
     "text": [
      "\r\u001b[32mProgress:  76%|███████████████████████████████          |  ETA: 2:42:11\u001b[39m\u001b[K"
     ]
    },
    {
     "name": "stderr",
     "output_type": "stream",
     "text": [
      "\r\u001b[32mProgress:  76%|████████████████████████████████         |  ETA: 2:40:50\u001b[39m\u001b[K"
     ]
    },
    {
     "name": "stderr",
     "output_type": "stream",
     "text": [
      "\r\u001b[32mProgress:  76%|████████████████████████████████         |  ETA: 2:39:29\u001b[39m\u001b[K"
     ]
    },
    {
     "name": "stderr",
     "output_type": "stream",
     "text": [
      "\r\u001b[32mProgress:  76%|████████████████████████████████         |  ETA: 2:38:07\u001b[39m\u001b[K"
     ]
    },
    {
     "name": "stderr",
     "output_type": "stream",
     "text": [
      "\r\u001b[32mProgress:  76%|████████████████████████████████         |  ETA: 2:36:42\u001b[39m\u001b[K"
     ]
    },
    {
     "name": "stderr",
     "output_type": "stream",
     "text": [
      "\r\u001b[32mProgress:  77%|████████████████████████████████         |  ETA: 2:35:18\u001b[39m\u001b[K"
     ]
    },
    {
     "name": "stderr",
     "output_type": "stream",
     "text": [
      "\r\u001b[32mProgress:  77%|████████████████████████████████         |  ETA: 2:33:57\u001b[39m\u001b[K"
     ]
    },
    {
     "name": "stderr",
     "output_type": "stream",
     "text": [
      "\r\u001b[32mProgress:  77%|████████████████████████████████         |  ETA: 2:32:33\u001b[39m\u001b[K"
     ]
    },
    {
     "name": "stderr",
     "output_type": "stream",
     "text": [
      "\r\u001b[32mProgress:  77%|████████████████████████████████         |  ETA: 2:31:11\u001b[39m\u001b[K"
     ]
    },
    {
     "name": "stderr",
     "output_type": "stream",
     "text": [
      "\r\u001b[32mProgress:  78%|████████████████████████████████         |  ETA: 2:29:49\u001b[39m\u001b[K"
     ]
    },
    {
     "name": "stderr",
     "output_type": "stream",
     "text": [
      "\r\u001b[32mProgress:  78%|████████████████████████████████         |  ETA: 2:28:29\u001b[39m\u001b[K"
     ]
    },
    {
     "name": "stderr",
     "output_type": "stream",
     "text": [
      "\r\u001b[32mProgress:  78%|████████████████████████████████         |  ETA: 2:27:12\u001b[39m\u001b[K"
     ]
    },
    {
     "name": "stderr",
     "output_type": "stream",
     "text": [
      "\r\u001b[32mProgress:  78%|█████████████████████████████████        |  ETA: 2:25:57\u001b[39m\u001b[K"
     ]
    },
    {
     "name": "stderr",
     "output_type": "stream",
     "text": [
      "\r\u001b[32mProgress:  78%|█████████████████████████████████        |  ETA: 2:24:34\u001b[39m\u001b[K"
     ]
    },
    {
     "name": "stderr",
     "output_type": "stream",
     "text": [
      "\r\u001b[32mProgress:  79%|█████████████████████████████████        |  ETA: 2:23:12\u001b[39m\u001b[K"
     ]
    },
    {
     "name": "stderr",
     "output_type": "stream",
     "text": [
      "\r\u001b[32mProgress:  79%|█████████████████████████████████        |  ETA: 2:21:51\u001b[39m\u001b[K"
     ]
    },
    {
     "name": "stderr",
     "output_type": "stream",
     "text": [
      "\r\u001b[32mProgress:  79%|█████████████████████████████████        |  ETA: 2:20:32\u001b[39m\u001b[K"
     ]
    },
    {
     "name": "stderr",
     "output_type": "stream",
     "text": [
      "\r\u001b[32mProgress:  79%|█████████████████████████████████        |  ETA: 2:19:09\u001b[39m\u001b[K"
     ]
    },
    {
     "name": "stderr",
     "output_type": "stream",
     "text": [
      "\r\u001b[32mProgress:  80%|█████████████████████████████████        |  ETA: 2:17:48\u001b[39m\u001b[K"
     ]
    },
    {
     "name": "stderr",
     "output_type": "stream",
     "text": [
      "\r\u001b[32mProgress:  80%|█████████████████████████████████        |  ETA: 2:16:30\u001b[39m\u001b[K"
     ]
    },
    {
     "name": "stderr",
     "output_type": "stream",
     "text": [
      "\r\u001b[32mProgress:  80%|█████████████████████████████████        |  ETA: 2:15:05\u001b[39m\u001b[K"
     ]
    },
    {
     "name": "stderr",
     "output_type": "stream",
     "text": [
      "\r\u001b[32mProgress:  80%|█████████████████████████████████        |  ETA: 2:13:42\u001b[39m\u001b[K"
     ]
    },
    {
     "name": "stderr",
     "output_type": "stream",
     "text": [
      "\r\u001b[32mProgress:  80%|█████████████████████████████████        |  ETA: 2:12:24\u001b[39m\u001b[K"
     ]
    },
    {
     "name": "stderr",
     "output_type": "stream",
     "text": [
      "\r\u001b[32mProgress:  81%|██████████████████████████████████       |  ETA: 2:11:02\u001b[39m\u001b[K"
     ]
    },
    {
     "name": "stderr",
     "output_type": "stream",
     "text": [
      "\r\u001b[32mProgress:  81%|██████████████████████████████████       |  ETA: 2:09:38\u001b[39m\u001b[K"
     ]
    },
    {
     "name": "stderr",
     "output_type": "stream",
     "text": [
      "\r\u001b[32mProgress:  81%|██████████████████████████████████       |  ETA: 2:08:15\u001b[39m\u001b[K"
     ]
    },
    {
     "name": "stderr",
     "output_type": "stream",
     "text": [
      "\r\u001b[32mProgress:  81%|██████████████████████████████████       |  ETA: 2:06:53\u001b[39m\u001b[K"
     ]
    },
    {
     "name": "stderr",
     "output_type": "stream",
     "text": [
      "\r\u001b[32mProgress:  82%|██████████████████████████████████       |  ETA: 2:05:33\u001b[39m\u001b[K"
     ]
    },
    {
     "name": "stderr",
     "output_type": "stream",
     "text": [
      "\r\u001b[32mProgress:  82%|██████████████████████████████████       |  ETA: 2:04:08\u001b[39m\u001b[K"
     ]
    },
    {
     "name": "stderr",
     "output_type": "stream",
     "text": [
      "\r\u001b[32mProgress:  82%|██████████████████████████████████       |  ETA: 2:02:42\u001b[39m\u001b[K"
     ]
    },
    {
     "name": "stderr",
     "output_type": "stream",
     "text": [
      "\r\u001b[32mProgress:  82%|██████████████████████████████████       |  ETA: 2:01:14\u001b[39m\u001b[K"
     ]
    },
    {
     "name": "stderr",
     "output_type": "stream",
     "text": [
      "\r\u001b[32mProgress:  82%|██████████████████████████████████       |  ETA: 1:59:49\u001b[39m\u001b[K"
     ]
    },
    {
     "name": "stderr",
     "output_type": "stream",
     "text": [
      "\r\u001b[32mProgress:  83%|██████████████████████████████████       |  ETA: 1:58:23\u001b[39m\u001b[K"
     ]
    },
    {
     "name": "stderr",
     "output_type": "stream",
     "text": [
      "\r\u001b[32mProgress:  83%|██████████████████████████████████       |  ETA: 1:56:56\u001b[39m\u001b[K"
     ]
    },
    {
     "name": "stderr",
     "output_type": "stream",
     "text": [
      "\r\u001b[32mProgress:  83%|███████████████████████████████████      |  ETA: 1:55:29\u001b[39m\u001b[K"
     ]
    },
    {
     "name": "stderr",
     "output_type": "stream",
     "text": [
      "\r\u001b[32mProgress:  83%|███████████████████████████████████      |  ETA: 1:54:03\u001b[39m\u001b[K"
     ]
    },
    {
     "name": "stderr",
     "output_type": "stream",
     "text": [
      "\r\u001b[32mProgress:  84%|███████████████████████████████████      |  ETA: 1:52:35\u001b[39m\u001b[K"
     ]
    },
    {
     "name": "stderr",
     "output_type": "stream",
     "text": [
      "\r\u001b[32mProgress:  84%|███████████████████████████████████      |  ETA: 1:51:06\u001b[39m\u001b[K"
     ]
    },
    {
     "name": "stderr",
     "output_type": "stream",
     "text": [
      "\r\u001b[32mProgress:  84%|███████████████████████████████████      |  ETA: 1:49:40\u001b[39m\u001b[K"
     ]
    },
    {
     "name": "stderr",
     "output_type": "stream",
     "text": [
      "\r\u001b[32mProgress:  84%|███████████████████████████████████      |  ETA: 1:48:12\u001b[39m\u001b[K"
     ]
    },
    {
     "name": "stderr",
     "output_type": "stream",
     "text": [
      "\r\u001b[32mProgress:  84%|███████████████████████████████████      |  ETA: 1:46:46\u001b[39m\u001b[K"
     ]
    },
    {
     "name": "stderr",
     "output_type": "stream",
     "text": [
      "\r\u001b[32mProgress:  85%|███████████████████████████████████      |  ETA: 1:45:19\u001b[39m\u001b[K"
     ]
    },
    {
     "name": "stderr",
     "output_type": "stream",
     "text": [
      "\r\u001b[32mProgress:  85%|███████████████████████████████████      |  ETA: 1:43:55\u001b[39m\u001b[K"
     ]
    },
    {
     "name": "stderr",
     "output_type": "stream",
     "text": [
      "\r\u001b[32mProgress:  85%|███████████████████████████████████      |  ETA: 1:42:31\u001b[39m\u001b[K"
     ]
    },
    {
     "name": "stderr",
     "output_type": "stream",
     "text": [
      "\r\u001b[32mProgress:  85%|███████████████████████████████████      |  ETA: 1:41:08\u001b[39m\u001b[K"
     ]
    },
    {
     "name": "stderr",
     "output_type": "stream",
     "text": [
      "\r\u001b[32mProgress:  86%|████████████████████████████████████     |  ETA: 1:39:45\u001b[39m\u001b[K"
     ]
    },
    {
     "name": "stderr",
     "output_type": "stream",
     "text": [
      "\r\u001b[32mProgress:  86%|████████████████████████████████████     |  ETA: 1:38:22\u001b[39m\u001b[K"
     ]
    },
    {
     "name": "stderr",
     "output_type": "stream",
     "text": [
      "\r\u001b[32mProgress:  86%|████████████████████████████████████     |  ETA: 1:36:59\u001b[39m\u001b[K"
     ]
    },
    {
     "name": "stderr",
     "output_type": "stream",
     "text": [
      "\r\u001b[32mProgress:  86%|████████████████████████████████████     |  ETA: 1:35:34\u001b[39m\u001b[K"
     ]
    },
    {
     "name": "stderr",
     "output_type": "stream",
     "text": [
      "\r\u001b[32mProgress:  86%|████████████████████████████████████     |  ETA: 1:34:12\u001b[39m\u001b[K"
     ]
    },
    {
     "name": "stderr",
     "output_type": "stream",
     "text": [
      "\r\u001b[32mProgress:  87%|████████████████████████████████████     |  ETA: 1:32:47\u001b[39m\u001b[K"
     ]
    },
    {
     "name": "stderr",
     "output_type": "stream",
     "text": [
      "\r\u001b[32mProgress:  87%|████████████████████████████████████     |  ETA: 1:31:22\u001b[39m\u001b[K"
     ]
    },
    {
     "name": "stderr",
     "output_type": "stream",
     "text": [
      "\r\u001b[32mProgress:  87%|████████████████████████████████████     |  ETA: 1:29:56\u001b[39m\u001b[K"
     ]
    },
    {
     "name": "stderr",
     "output_type": "stream",
     "text": [
      "\r\u001b[32mProgress:  87%|████████████████████████████████████     |  ETA: 1:28:29\u001b[39m\u001b[K"
     ]
    },
    {
     "name": "stderr",
     "output_type": "stream",
     "text": [
      "\r\u001b[32mProgress:  88%|████████████████████████████████████     |  ETA: 1:26:59\u001b[39m\u001b[K"
     ]
    },
    {
     "name": "stderr",
     "output_type": "stream",
     "text": [
      "\r\u001b[32mProgress:  88%|████████████████████████████████████     |  ETA: 1:25:29\u001b[39m\u001b[K"
     ]
    },
    {
     "name": "stderr",
     "output_type": "stream",
     "text": [
      "\r\u001b[32mProgress:  88%|█████████████████████████████████████    |  ETA: 1:23:59\u001b[39m\u001b[K"
     ]
    },
    {
     "name": "stderr",
     "output_type": "stream",
     "text": [
      "\r\u001b[32mProgress:  88%|█████████████████████████████████████    |  ETA: 1:22:29\u001b[39m\u001b[K"
     ]
    },
    {
     "name": "stderr",
     "output_type": "stream",
     "text": [
      "\r\u001b[32mProgress:  88%|█████████████████████████████████████    |  ETA: 1:20:59\u001b[39m\u001b[K"
     ]
    },
    {
     "name": "stderr",
     "output_type": "stream",
     "text": [
      "\r\u001b[32mProgress:  89%|█████████████████████████████████████    |  ETA: 1:19:29\u001b[39m\u001b[K"
     ]
    },
    {
     "name": "stderr",
     "output_type": "stream",
     "text": [
      "\r\u001b[32mProgress:  89%|█████████████████████████████████████    |  ETA: 1:18:00\u001b[39m\u001b[K"
     ]
    },
    {
     "name": "stderr",
     "output_type": "stream",
     "text": [
      "\r\u001b[32mProgress:  89%|█████████████████████████████████████    |  ETA: 1:16:31\u001b[39m\u001b[K"
     ]
    },
    {
     "name": "stderr",
     "output_type": "stream",
     "text": [
      "\r\u001b[32mProgress:  89%|█████████████████████████████████████    |  ETA: 1:15:01\u001b[39m\u001b[K"
     ]
    },
    {
     "name": "stderr",
     "output_type": "stream",
     "text": [
      "\r\u001b[32mProgress:  90%|█████████████████████████████████████    |  ETA: 1:13:31\u001b[39m\u001b[K"
     ]
    },
    {
     "name": "stderr",
     "output_type": "stream",
     "text": [
      "\r\u001b[32mProgress:  90%|█████████████████████████████████████    |  ETA: 1:12:02\u001b[39m\u001b[K"
     ]
    },
    {
     "name": "stderr",
     "output_type": "stream",
     "text": [
      "\r\u001b[32mProgress:  90%|█████████████████████████████████████    |  ETA: 1:10:31\u001b[39m\u001b[K"
     ]
    },
    {
     "name": "stderr",
     "output_type": "stream",
     "text": [
      "\r\u001b[32mProgress:  90%|█████████████████████████████████████    |  ETA: 1:09:00\u001b[39m\u001b[K"
     ]
    },
    {
     "name": "stderr",
     "output_type": "stream",
     "text": [
      "\r\u001b[32mProgress:  90%|██████████████████████████████████████   |  ETA: 1:07:30\u001b[39m\u001b[K"
     ]
    },
    {
     "name": "stderr",
     "output_type": "stream",
     "text": [
      "\r\u001b[32mProgress:  91%|██████████████████████████████████████   |  ETA: 1:05:59\u001b[39m\u001b[K"
     ]
    },
    {
     "name": "stderr",
     "output_type": "stream",
     "text": [
      "\r\u001b[32mProgress:  91%|██████████████████████████████████████   |  ETA: 1:04:29\u001b[39m\u001b[K"
     ]
    },
    {
     "name": "stderr",
     "output_type": "stream",
     "text": [
      "\r\u001b[32mProgress:  91%|██████████████████████████████████████   |  ETA: 1:02:58\u001b[39m\u001b[K"
     ]
    },
    {
     "name": "stderr",
     "output_type": "stream",
     "text": [
      "\r\u001b[32mProgress:  91%|██████████████████████████████████████   |  ETA: 1:01:26\u001b[39m\u001b[K"
     ]
    },
    {
     "name": "stderr",
     "output_type": "stream",
     "text": [
      "\r\u001b[32mProgress:  92%|██████████████████████████████████████   |  ETA: 0:59:56\u001b[39m\u001b[K"
     ]
    },
    {
     "name": "stderr",
     "output_type": "stream",
     "text": [
      "\r\u001b[32mProgress:  92%|██████████████████████████████████████   |  ETA: 0:58:25\u001b[39m\u001b[K"
     ]
    },
    {
     "name": "stderr",
     "output_type": "stream",
     "text": [
      "\r\u001b[32mProgress:  92%|██████████████████████████████████████   |  ETA: 0:56:54\u001b[39m\u001b[K"
     ]
    },
    {
     "name": "stderr",
     "output_type": "stream",
     "text": [
      "\r\u001b[32mProgress:  92%|██████████████████████████████████████   |  ETA: 0:55:27\u001b[39m\u001b[K"
     ]
    },
    {
     "name": "stderr",
     "output_type": "stream",
     "text": [
      "\r\u001b[32mProgress:  92%|██████████████████████████████████████   |  ETA: 0:54:05\u001b[39m\u001b[K"
     ]
    },
    {
     "name": "stderr",
     "output_type": "stream",
     "text": [
      "\r\u001b[32mProgress:  93%|██████████████████████████████████████   |  ETA: 0:52:32\u001b[39m\u001b[K"
     ]
    },
    {
     "name": "stderr",
     "output_type": "stream",
     "text": [
      "\r\u001b[32mProgress:  93%|███████████████████████████████████████  |  ETA: 0:51:01\u001b[39m\u001b[K"
     ]
    },
    {
     "name": "stderr",
     "output_type": "stream",
     "text": [
      "\r\u001b[32mProgress:  93%|███████████████████████████████████████  |  ETA: 0:49:28\u001b[39m\u001b[K"
     ]
    },
    {
     "name": "stderr",
     "output_type": "stream",
     "text": [
      "\r\u001b[32mProgress:  93%|███████████████████████████████████████  |  ETA: 0:47:56\u001b[39m\u001b[K"
     ]
    },
    {
     "name": "stderr",
     "output_type": "stream",
     "text": [
      "\r\u001b[32mProgress:  94%|███████████████████████████████████████  |  ETA: 0:46:22\u001b[39m\u001b[K"
     ]
    },
    {
     "name": "stderr",
     "output_type": "stream",
     "text": [
      "\r\u001b[32mProgress:  94%|███████████████████████████████████████  |  ETA: 0:44:48\u001b[39m\u001b[K"
     ]
    },
    {
     "name": "stderr",
     "output_type": "stream",
     "text": [
      "\r\u001b[32mProgress:  94%|███████████████████████████████████████  |  ETA: 0:43:14\u001b[39m\u001b[K"
     ]
    },
    {
     "name": "stderr",
     "output_type": "stream",
     "text": [
      "\r\u001b[32mProgress:  94%|███████████████████████████████████████  |  ETA: 0:41:40\u001b[39m\u001b[K"
     ]
    },
    {
     "name": "stderr",
     "output_type": "stream",
     "text": [
      "\r\u001b[32mProgress:  94%|███████████████████████████████████████  |  ETA: 0:40:05\u001b[39m\u001b[K"
     ]
    },
    {
     "name": "stderr",
     "output_type": "stream",
     "text": [
      "\r\u001b[32mProgress:  95%|███████████████████████████████████████  |  ETA: 0:38:30\u001b[39m\u001b[K"
     ]
    },
    {
     "name": "stderr",
     "output_type": "stream",
     "text": [
      "\r\u001b[32mProgress:  95%|███████████████████████████████████████  |  ETA: 0:36:55\u001b[39m\u001b[K"
     ]
    },
    {
     "name": "stderr",
     "output_type": "stream",
     "text": [
      "\r\u001b[32mProgress:  95%|███████████████████████████████████████  |  ETA: 0:35:18\u001b[39m\u001b[K"
     ]
    },
    {
     "name": "stderr",
     "output_type": "stream",
     "text": [
      "\r\u001b[32mProgress:  95%|████████████████████████████████████████ |  ETA: 0:33:42\u001b[39m\u001b[K"
     ]
    },
    {
     "name": "stderr",
     "output_type": "stream",
     "text": [
      "\r\u001b[32mProgress:  96%|████████████████████████████████████████ |  ETA: 0:32:06\u001b[39m\u001b[K"
     ]
    },
    {
     "name": "stderr",
     "output_type": "stream",
     "text": [
      "\r\u001b[32mProgress:  96%|████████████████████████████████████████ |  ETA: 0:30:29\u001b[39m\u001b[K"
     ]
    },
    {
     "name": "stderr",
     "output_type": "stream",
     "text": [
      "\r\u001b[32mProgress:  96%|████████████████████████████████████████ |  ETA: 0:28:53\u001b[39m\u001b[K"
     ]
    },
    {
     "name": "stderr",
     "output_type": "stream",
     "text": [
      "\r\u001b[32mProgress:  96%|████████████████████████████████████████ |  ETA: 0:27:17\u001b[39m\u001b[K"
     ]
    },
    {
     "name": "stderr",
     "output_type": "stream",
     "text": [
      "\r\u001b[32mProgress:  96%|████████████████████████████████████████ |  ETA: 0:25:42\u001b[39m\u001b[K"
     ]
    },
    {
     "name": "stderr",
     "output_type": "stream",
     "text": [
      "\r\u001b[32mProgress:  97%|████████████████████████████████████████ |  ETA: 0:24:06\u001b[39m\u001b[K"
     ]
    },
    {
     "name": "stderr",
     "output_type": "stream",
     "text": [
      "\r\u001b[32mProgress:  97%|████████████████████████████████████████ |  ETA: 0:22:31\u001b[39m\u001b[K"
     ]
    },
    {
     "name": "stderr",
     "output_type": "stream",
     "text": [
      "\r\u001b[32mProgress:  97%|████████████████████████████████████████ |  ETA: 0:20:55\u001b[39m\u001b[K"
     ]
    },
    {
     "name": "stderr",
     "output_type": "stream",
     "text": [
      "\r\u001b[32mProgress:  97%|████████████████████████████████████████ |  ETA: 0:19:19\u001b[39m\u001b[K"
     ]
    },
    {
     "name": "stderr",
     "output_type": "stream",
     "text": [
      "\r\u001b[32mProgress:  98%|████████████████████████████████████████ |  ETA: 0:17:43\u001b[39m\u001b[K"
     ]
    },
    {
     "name": "stderr",
     "output_type": "stream",
     "text": [
      "\r\u001b[32mProgress:  98%|█████████████████████████████████████████|  ETA: 0:16:07\u001b[39m\u001b[K"
     ]
    },
    {
     "name": "stderr",
     "output_type": "stream",
     "text": [
      "\r\u001b[32mProgress:  98%|█████████████████████████████████████████|  ETA: 0:14:31\u001b[39m\u001b[K"
     ]
    },
    {
     "name": "stderr",
     "output_type": "stream",
     "text": [
      "\r\u001b[32mProgress:  98%|█████████████████████████████████████████|  ETA: 0:12:55\u001b[39m\u001b[K"
     ]
    },
    {
     "name": "stderr",
     "output_type": "stream",
     "text": [
      "\r\u001b[32mProgress:  98%|█████████████████████████████████████████|  ETA: 0:11:18\u001b[39m\u001b[K"
     ]
    },
    {
     "name": "stderr",
     "output_type": "stream",
     "text": [
      "\r\u001b[32mProgress:  99%|█████████████████████████████████████████|  ETA: 0:09:42\u001b[39m\u001b[K"
     ]
    },
    {
     "name": "stderr",
     "output_type": "stream",
     "text": [
      "\r\u001b[32mProgress:  99%|█████████████████████████████████████████|  ETA: 0:08:05\u001b[39m\u001b[K"
     ]
    },
    {
     "name": "stderr",
     "output_type": "stream",
     "text": [
      "\r\u001b[32mProgress:  99%|█████████████████████████████████████████|  ETA: 0:06:29\u001b[39m\u001b[K"
     ]
    },
    {
     "name": "stderr",
     "output_type": "stream",
     "text": [
      "\r\u001b[32mProgress:  99%|█████████████████████████████████████████|  ETA: 0:04:52\u001b[39m\u001b[K"
     ]
    },
    {
     "name": "stderr",
     "output_type": "stream",
     "text": [
      "\r\u001b[32mProgress: 100%|█████████████████████████████████████████|  ETA: 0:03:15\u001b[39m\u001b[K"
     ]
    },
    {
     "name": "stderr",
     "output_type": "stream",
     "text": [
      "\r\u001b[32mProgress: 100%|█████████████████████████████████████████|  ETA: 0:01:37\u001b[39m\u001b[K"
     ]
    },
    {
     "name": "stderr",
     "output_type": "stream",
     "text": [
      "\r\u001b[32mProgress: 100%|█████████████████████████████████████████| Time: 12:11:04\u001b[39m"
     ]
    },
    {
     "name": "stderr",
     "output_type": "stream",
     "text": [
      "\u001b[K\n"
     ]
    },
    {
     "data": {
      "text/plain": [
       "\"outputs.csv\""
      ]
     },
     "metadata": {},
     "output_type": "display_data"
    }
   ],
   "source": [
    "# Create empty data frame\n",
    "outputs = DataFrame([[], [], [], [], [], []], [\"rep\", \"year\", \"week\", \"total_pop\", \"n_infected\", \"n_symptomatic\"])\n",
    "\n",
    "seros = [0, 0.1, 0.2, 0.3, 0.4, 0.5, 0.6, 0.7, 0.8]\n",
    "\n",
    "reps = 50\n",
    "\n",
    "p = Progress(reps*length(seros))\n",
    "\n",
    "for i in 1:length(seros)\n",
    "    for rep in 1:reps\n",
    "        the_mega_loop(10, seros[i], rep)\n",
    "        next!(p)\n",
    "    end\n",
    "end\n",
    "\n",
    "\n",
    "CSV.write(\"outputs.csv\", outputs)"
   ]
  },
  {
   "cell_type": "code",
   "execution_count": 38,
   "metadata": {},
   "outputs": [],
   "source": [
    "#=\n",
    "#gif\n",
    "time_steps = 10\n",
    "\n",
    "anim = @animate for step in 1:time_steps\n",
    "\n",
    "    moves = look_around.(lil_guys.x, lil_guys.y)\n",
    "    move(moves, lil_guys)\n",
    "\n",
    "    fig = Plots.heatmap(landscape, c = :grays)\n",
    "    Plots.plot!(lil_guys.x, lil_guys.y, seriestype = :scatter, color = lil_guys.infectious)\n",
    "\n",
    "end\n",
    "\n",
    "gif(anim, fps = 4)\n",
    "=#"
   ]
  }
 ],
 "metadata": {
  "kernelspec": {
   "display_name": "Julia 1.9.2",
   "language": "julia",
   "name": "julia-1.9"
  },
  "language_info": {
   "file_extension": ".jl",
   "mimetype": "application/julia",
   "name": "julia",
   "version": "1.9.2"
  },
  "orig_nbformat": 4
 },
 "nbformat": 4,
 "nbformat_minor": 2
}
